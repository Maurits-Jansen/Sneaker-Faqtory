{
 "cells": [
  {
   "cell_type": "code",
   "execution_count": 7,
   "id": "c81681a3",
   "metadata": {},
   "outputs": [],
   "source": [
    "from faker import Faker"
   ]
  },
  {
   "cell_type": "code",
   "execution_count": 10,
   "id": "0ce33f3f",
   "metadata": {},
   "outputs": [
    {
     "name": "stdout",
     "output_type": "stream",
     "text": [
      "Datetime between: 2010-10-01\n",
      "Datetime between: 2016-05-03\n",
      "Datetime between: 2006-02-28\n",
      "Datetime between: 2018-02-24\n",
      "Datetime between: 2021-10-09\n",
      "Datetime between: 2010-03-10\n",
      "Datetime between: 2011-06-29\n",
      "Datetime between: 2011-04-24\n",
      "Datetime between: 2009-07-03\n",
      "Datetime between: 2014-12-16\n"
     ]
    }
   ],
   "source": [
    "faker = Faker()\n",
    "for _ in range(10):\n",
    "    print(f\"Datetime between: {faker.date_between(start_date='-18y', end_date='now')}\")"
   ]
  },
  {
   "cell_type": "markdown",
   "id": "2958606e",
   "metadata": {},
   "source": [
    "## Payment Table"
   ]
  },
  {
   "cell_type": "code",
   "execution_count": 14,
   "id": "bd1bf7ac",
   "metadata": {},
   "outputs": [
    {
     "name": "stdout",
     "output_type": "stream",
     "text": [
      "['PayPal', 'Mastercard', 'Klarna', 'Mastercard', 'iDeal', 'Klarna', 'PayPal', 'Mastercard', 'PayPal', 'PayPal']\n"
     ]
    }
   ],
   "source": [
    "import random\n",
    "import numpy as np\n",
    "\n",
    "paymentmethods = [\"Mastercard\", \"iDeal\", \"Visa\", \"PayPal\", \"Klarna\"]\n",
    "\n",
    "#Generate random payment method data, k = the number of orders\n",
    "paymentdata = random.choices(paymentmethods, weights=(40, 10, 8, 24, 18), k=10)\n",
    "\n",
    "print(paymentdata)"
   ]
  },
  {
   "cell_type": "markdown",
   "id": "c5f96ffe",
   "metadata": {},
   "source": [
    "### Transforming to dataframe in Pandas"
   ]
  },
  {
   "cell_type": "code",
   "execution_count": 37,
   "id": "81067b94",
   "metadata": {},
   "outputs": [
    {
     "data": {
      "text/html": [
       "<div>\n",
       "<style scoped>\n",
       "    .dataframe tbody tr th:only-of-type {\n",
       "        vertical-align: middle;\n",
       "    }\n",
       "\n",
       "    .dataframe tbody tr th {\n",
       "        vertical-align: top;\n",
       "    }\n",
       "\n",
       "    .dataframe thead th {\n",
       "        text-align: right;\n",
       "    }\n",
       "</style>\n",
       "<table border=\"1\" class=\"dataframe\">\n",
       "  <thead>\n",
       "    <tr style=\"text-align: right;\">\n",
       "      <th></th>\n",
       "      <th>Payment_Method</th>\n",
       "    </tr>\n",
       "  </thead>\n",
       "  <tbody>\n",
       "    <tr>\n",
       "      <th>0</th>\n",
       "      <td>Mastercard</td>\n",
       "    </tr>\n",
       "    <tr>\n",
       "      <th>1</th>\n",
       "      <td>iDeal</td>\n",
       "    </tr>\n",
       "    <tr>\n",
       "      <th>2</th>\n",
       "      <td>Visa</td>\n",
       "    </tr>\n",
       "    <tr>\n",
       "      <th>3</th>\n",
       "      <td>PayPal</td>\n",
       "    </tr>\n",
       "    <tr>\n",
       "      <th>4</th>\n",
       "      <td>Klarna</td>\n",
       "    </tr>\n",
       "  </tbody>\n",
       "</table>\n",
       "</div>"
      ],
      "text/plain": [
       "  Payment_Method\n",
       "0     Mastercard\n",
       "1          iDeal\n",
       "2           Visa\n",
       "3         PayPal\n",
       "4         Klarna"
      ]
     },
     "execution_count": 37,
     "metadata": {},
     "output_type": "execute_result"
    }
   ],
   "source": [
    "import pandas as pd\n",
    "paymentdf = pd.DataFrame (paymentmethods, columns = ['Payment_Method'])\n",
    "paymentdf.head()"
   ]
  },
  {
   "cell_type": "markdown",
   "id": "7877f735",
   "metadata": {},
   "source": [
    "### Add new column with payment terms for every payment method"
   ]
  },
  {
   "cell_type": "code",
   "execution_count": 26,
   "id": "83abb03c",
   "metadata": {},
   "outputs": [
    {
     "data": {
      "text/html": [
       "<div>\n",
       "<style scoped>\n",
       "    .dataframe tbody tr th:only-of-type {\n",
       "        vertical-align: middle;\n",
       "    }\n",
       "\n",
       "    .dataframe tbody tr th {\n",
       "        vertical-align: top;\n",
       "    }\n",
       "\n",
       "    .dataframe thead th {\n",
       "        text-align: right;\n",
       "    }\n",
       "</style>\n",
       "<table border=\"1\" class=\"dataframe\">\n",
       "  <thead>\n",
       "    <tr style=\"text-align: right;\">\n",
       "      <th></th>\n",
       "      <th>Payment_Method</th>\n",
       "      <th>Payment_Terms</th>\n",
       "    </tr>\n",
       "  </thead>\n",
       "  <tbody>\n",
       "    <tr>\n",
       "      <th>0</th>\n",
       "      <td>PayPal</td>\n",
       "      <td>Debit</td>\n",
       "    </tr>\n",
       "    <tr>\n",
       "      <th>1</th>\n",
       "      <td>Mastercard</td>\n",
       "      <td>End of month</td>\n",
       "    </tr>\n",
       "    <tr>\n",
       "      <th>2</th>\n",
       "      <td>Klarna</td>\n",
       "      <td>Net 15</td>\n",
       "    </tr>\n",
       "    <tr>\n",
       "      <th>3</th>\n",
       "      <td>Mastercard</td>\n",
       "      <td>End of month</td>\n",
       "    </tr>\n",
       "    <tr>\n",
       "      <th>4</th>\n",
       "      <td>iDeal</td>\n",
       "      <td>Debit</td>\n",
       "    </tr>\n",
       "    <tr>\n",
       "      <th>5</th>\n",
       "      <td>Klarna</td>\n",
       "      <td>Net 15</td>\n",
       "    </tr>\n",
       "    <tr>\n",
       "      <th>6</th>\n",
       "      <td>PayPal</td>\n",
       "      <td>Debit</td>\n",
       "    </tr>\n",
       "    <tr>\n",
       "      <th>7</th>\n",
       "      <td>Mastercard</td>\n",
       "      <td>End of month</td>\n",
       "    </tr>\n",
       "    <tr>\n",
       "      <th>8</th>\n",
       "      <td>PayPal</td>\n",
       "      <td>Debit</td>\n",
       "    </tr>\n",
       "    <tr>\n",
       "      <th>9</th>\n",
       "      <td>PayPal</td>\n",
       "      <td>Debit</td>\n",
       "    </tr>\n",
       "  </tbody>\n",
       "</table>\n",
       "</div>"
      ],
      "text/plain": [
       "  Payment_Method Payment_Terms\n",
       "0         PayPal         Debit\n",
       "1     Mastercard  End of month\n",
       "2         Klarna        Net 15\n",
       "3     Mastercard  End of month\n",
       "4          iDeal         Debit\n",
       "5         Klarna        Net 15\n",
       "6         PayPal         Debit\n",
       "7     Mastercard  End of month\n",
       "8         PayPal         Debit\n",
       "9         PayPal         Debit"
      ]
     },
     "execution_count": 26,
     "metadata": {},
     "output_type": "execute_result"
    }
   ],
   "source": [
    "#Create list of conditions\n",
    "conditions = [\n",
    "    (paymentdf['Payment_Method'] == 'Mastercard'),\n",
    "    (paymentdf['Payment_Method'] == 'iDeal'),\n",
    "    (paymentdf['Payment_Method'] == 'Visa'),\n",
    "    (paymentdf['Payment_Method'] == 'PayPal'),\n",
    "    (paymentdf['Payment_Method'] == 'Klarna')\n",
    "    ]\n",
    "\n",
    "#Create list of values that will be assigned to the conditions\n",
    "values = ['End of month', 'Debit', 'End of month', 'Debit', 'Net 15']\n",
    "\n",
    "#Create new column with values\n",
    "paymentdf['Payment_Terms'] = np.select(conditions, values)\n",
    "\n",
    "paymentdf.head(10)"
   ]
  },
  {
   "cell_type": "markdown",
   "id": "30141a17",
   "metadata": {},
   "source": [
    "## Store Table"
   ]
  },
  {
   "cell_type": "code",
   "execution_count": 38,
   "id": "d1a8bd12",
   "metadata": {},
   "outputs": [
    {
     "name": "stdout",
     "output_type": "stream",
     "text": [
      "[['Webshop', 'http://www.sneaker-factory.com]'], ['Rome', 'Via del Corso'], ['Webshop', 'http://www.sneaker-factory.com]'], ['Webshop', 'http://www.sneaker-factory.com]'], ['Amsterdam', 'Oudezijds Voorburgwal'], ['Warsaw', 'Nowy Świat'], ['Rome', 'Via del Corso'], ['Amsterdam', 'Oudezijds Voorburgwal'], ['Rome', 'Via del Corso'], ['Warsaw', 'Nowy Świat']]\n"
     ]
    }
   ],
   "source": [
    "stores = [['Amsterdam','Oudezijds Voorburgwal'],\n",
    "['Stockholm','Drottninggatan'],\n",
    "['London','Carnaby Street'],\n",
    "['Warsaw','Nowy Świat'],\n",
    "['Rome','Via del Corso'],\n",
    "['Madrid','Calle Preciados'],\n",
    "['Webshop','http://www.sneaker-factory.com]']\n",
    "         ]\n",
    "\n",
    "\n",
    "#Generate random store data, k = the number of orders\n",
    "storedata = random.choices(stores, weights=(18, 8, 16, 5, 11, 7, 35), k=10)\n",
    "\n",
    "print(storedata)"
   ]
  },
  {
   "cell_type": "code",
   "execution_count": 34,
   "id": "62f8ad1f",
   "metadata": {},
   "outputs": [
    {
     "data": {
      "text/html": [
       "<div>\n",
       "<style scoped>\n",
       "    .dataframe tbody tr th:only-of-type {\n",
       "        vertical-align: middle;\n",
       "    }\n",
       "\n",
       "    .dataframe tbody tr th {\n",
       "        vertical-align: top;\n",
       "    }\n",
       "\n",
       "    .dataframe thead th {\n",
       "        text-align: right;\n",
       "    }\n",
       "</style>\n",
       "<table border=\"1\" class=\"dataframe\">\n",
       "  <thead>\n",
       "    <tr style=\"text-align: right;\">\n",
       "      <th></th>\n",
       "      <th>Store_Location</th>\n",
       "      <th>Address</th>\n",
       "    </tr>\n",
       "  </thead>\n",
       "  <tbody>\n",
       "    <tr>\n",
       "      <th>0</th>\n",
       "      <td>Amsterdam</td>\n",
       "      <td>Oudezijds Voorburgwal</td>\n",
       "    </tr>\n",
       "    <tr>\n",
       "      <th>1</th>\n",
       "      <td>Stockholm</td>\n",
       "      <td>Drottninggatan</td>\n",
       "    </tr>\n",
       "    <tr>\n",
       "      <th>2</th>\n",
       "      <td>London</td>\n",
       "      <td>Carnaby Street</td>\n",
       "    </tr>\n",
       "    <tr>\n",
       "      <th>3</th>\n",
       "      <td>Warsaw</td>\n",
       "      <td>Nowy Świat</td>\n",
       "    </tr>\n",
       "    <tr>\n",
       "      <th>4</th>\n",
       "      <td>Rome</td>\n",
       "      <td>Via del Corso</td>\n",
       "    </tr>\n",
       "    <tr>\n",
       "      <th>5</th>\n",
       "      <td>Madrid</td>\n",
       "      <td>Calle Preciados</td>\n",
       "    </tr>\n",
       "    <tr>\n",
       "      <th>6</th>\n",
       "      <td>Webshop</td>\n",
       "      <td>http://www.sneaker-factory.com]</td>\n",
       "    </tr>\n",
       "  </tbody>\n",
       "</table>\n",
       "</div>"
      ],
      "text/plain": [
       "  Store_Location                          Address\n",
       "0      Amsterdam            Oudezijds Voorburgwal\n",
       "1      Stockholm                   Drottninggatan\n",
       "2         London                   Carnaby Street\n",
       "3         Warsaw                       Nowy Świat\n",
       "4           Rome                    Via del Corso\n",
       "5         Madrid                  Calle Preciados\n",
       "6        Webshop  http://www.sneaker-factory.com]"
      ]
     },
     "execution_count": 34,
     "metadata": {},
     "output_type": "execute_result"
    }
   ],
   "source": [
    "storedf = pd.DataFrame (stores, columns = ['Store_Location', 'Address'])\n",
    "\n",
    "storedf.head(10)"
   ]
  },
  {
   "cell_type": "markdown",
   "id": "234f2483",
   "metadata": {},
   "source": [
    "## Discount Table"
   ]
  },
  {
   "cell_type": "code",
   "execution_count": 125,
   "id": "01b0fd70",
   "metadata": {},
   "outputs": [
    {
     "name": "stdout",
     "output_type": "stream",
     "text": [
      "['01 Dec', '22 Nov', '21 Mar', '08 Aug', '19 Aug', '25 Dec', '08 Aug', '13 Aug', '30 Jan', '21 Nov', '26 Apr', '14 Jun', '21 Mar', '06 Nov', '05 Jun', '21 Aug', '20 Oct', '30 Dec', '09 Dec', '25 Nov']\n"
     ]
    }
   ],
   "source": [
    "import datetime\n",
    "\n",
    "faker = Faker()\n",
    "discountlist = [] \n",
    "for _ in range(20):\n",
    "    discountlist.append((faker.date_between(start_date='-18y', end_date='now')).strftime(\"%d %b\"))\n",
    "    \n",
    "print(discountlist)"
   ]
  },
  {
   "cell_type": "code",
   "execution_count": 127,
   "id": "0d30a2e6",
   "metadata": {},
   "outputs": [
    {
     "name": "stdout",
     "output_type": "stream",
     "text": [
      "Christmas discount\n",
      "No discount\n",
      "Spring deal\n",
      "No discount\n",
      "No discount\n",
      "Christmas discount\n",
      "No discount\n",
      "No discount\n",
      "No discount\n",
      "No discount\n",
      "No discount\n",
      "No discount\n",
      "Spring deal\n",
      "No discount\n",
      "No discount\n",
      "No discount\n",
      "No discount\n",
      "Christmas discount\n",
      "Christmas discount\n",
      "No discount\n"
     ]
    }
   ],
   "source": [
    "for i in discountlist:\n",
    "    if int(i[:2]) <= 7 and str(i[-3:]) == \"Jan\":\n",
    "        print(\"New Year discount\")\n",
    "    elif i[-3:] == \"Dec\":\n",
    "        print(\"Christmas discount\")\n",
    "    elif (int(i[:2]) >= 21 and str(i[-3:]) == \"Mar\") or (int(i[:2]) <= 3 and str(i[-3:]) == \"Apr\"):\n",
    "        print(\"Spring deal\")\n",
    "    else:\n",
    "        print(\"No discount\")"
   ]
  },
  {
   "cell_type": "markdown",
   "id": "9fd51902",
   "metadata": {},
   "source": [
    "## Product table"
   ]
  },
  {
   "cell_type": "code",
   "execution_count": null,
   "id": "28685e8c",
   "metadata": {},
   "outputs": [],
   "source": []
  }
 ],
 "metadata": {
  "kernelspec": {
   "display_name": "Python 3",
   "language": "python",
   "name": "python3"
  },
  "language_info": {
   "codemirror_mode": {
    "name": "ipython",
    "version": 3
   },
   "file_extension": ".py",
   "mimetype": "text/x-python",
   "name": "python",
   "nbconvert_exporter": "python",
   "pygments_lexer": "ipython3",
   "version": "3.8.8"
  }
 },
 "nbformat": 4,
 "nbformat_minor": 5
}
