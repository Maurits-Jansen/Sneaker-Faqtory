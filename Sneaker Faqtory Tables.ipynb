{
 "cells": [
  {
   "cell_type": "code",
   "execution_count": 1,
   "id": "c81681a3",
   "metadata": {},
   "outputs": [],
   "source": [
    "from faker import Faker"
   ]
  },
  {
   "cell_type": "code",
   "execution_count": 2,
   "id": "0ce33f3f",
   "metadata": {},
   "outputs": [
    {
     "name": "stdout",
     "output_type": "stream",
     "text": [
      "Datetime between: 2010-11-16\n",
      "Datetime between: 2010-08-01\n",
      "Datetime between: 2006-11-05\n",
      "Datetime between: 2009-08-19\n",
      "Datetime between: 2014-12-12\n",
      "Datetime between: 2021-08-21\n",
      "Datetime between: 2010-01-21\n",
      "Datetime between: 2020-07-02\n",
      "Datetime between: 2021-01-03\n",
      "Datetime between: 2006-05-24\n"
     ]
    }
   ],
   "source": [
    "faker = Faker()\n",
    "for _ in range(10):\n",
    "    print(f\"Datetime between: {faker.date_between(start_date='-18y', end_date='now')}\")"
   ]
  },
  {
   "cell_type": "markdown",
   "id": "2958606e",
   "metadata": {},
   "source": [
    "## Payment Table"
   ]
  },
  {
   "cell_type": "code",
   "execution_count": 3,
   "id": "bd1bf7ac",
   "metadata": {},
   "outputs": [
    {
     "name": "stdout",
     "output_type": "stream",
     "text": [
      "['iDeal', 'Mastercard', 'iDeal', 'Mastercard', 'iDeal', 'Mastercard', 'Mastercard', 'Klarna', 'PayPal', 'Mastercard']\n"
     ]
    }
   ],
   "source": [
    "import random\n",
    "import numpy as np\n",
    "\n",
    "paymentmethods = [\"Mastercard\", \"iDeal\", \"Visa\", \"PayPal\", \"Klarna\"]\n",
    "\n",
    "#Generate random payment method data, k = the number of orders\n",
    "paymentdata = random.choices(paymentmethods, weights=(40, 10, 8, 24, 18), k=10)\n",
    "\n",
    "print(paymentdata)"
   ]
  },
  {
   "cell_type": "markdown",
   "id": "c5f96ffe",
   "metadata": {},
   "source": [
    "### Transforming to dataframe in Pandas"
   ]
  },
  {
   "cell_type": "code",
   "execution_count": 4,
   "id": "81067b94",
   "metadata": {},
   "outputs": [
    {
     "data": {
      "text/html": [
       "<div>\n",
       "<style scoped>\n",
       "    .dataframe tbody tr th:only-of-type {\n",
       "        vertical-align: middle;\n",
       "    }\n",
       "\n",
       "    .dataframe tbody tr th {\n",
       "        vertical-align: top;\n",
       "    }\n",
       "\n",
       "    .dataframe thead th {\n",
       "        text-align: right;\n",
       "    }\n",
       "</style>\n",
       "<table border=\"1\" class=\"dataframe\">\n",
       "  <thead>\n",
       "    <tr style=\"text-align: right;\">\n",
       "      <th></th>\n",
       "      <th>Payment_Method</th>\n",
       "    </tr>\n",
       "  </thead>\n",
       "  <tbody>\n",
       "    <tr>\n",
       "      <th>0</th>\n",
       "      <td>Mastercard</td>\n",
       "    </tr>\n",
       "    <tr>\n",
       "      <th>1</th>\n",
       "      <td>iDeal</td>\n",
       "    </tr>\n",
       "    <tr>\n",
       "      <th>2</th>\n",
       "      <td>Visa</td>\n",
       "    </tr>\n",
       "    <tr>\n",
       "      <th>3</th>\n",
       "      <td>PayPal</td>\n",
       "    </tr>\n",
       "    <tr>\n",
       "      <th>4</th>\n",
       "      <td>Klarna</td>\n",
       "    </tr>\n",
       "  </tbody>\n",
       "</table>\n",
       "</div>"
      ],
      "text/plain": [
       "  Payment_Method\n",
       "0     Mastercard\n",
       "1          iDeal\n",
       "2           Visa\n",
       "3         PayPal\n",
       "4         Klarna"
      ]
     },
     "execution_count": 4,
     "metadata": {},
     "output_type": "execute_result"
    }
   ],
   "source": [
    "import pandas as pd\n",
    "paymentdf = pd.DataFrame (paymentmethods, columns = ['Payment_Method'])\n",
    "paymentdf.head()"
   ]
  },
  {
   "cell_type": "code",
   "execution_count": 5,
   "id": "5ba9baa1",
   "metadata": {},
   "outputs": [],
   "source": [
    "#paymentdf.index += 1"
   ]
  },
  {
   "cell_type": "markdown",
   "id": "7877f735",
   "metadata": {},
   "source": [
    "### Add new column with payment terms for every payment method"
   ]
  },
  {
   "cell_type": "code",
   "execution_count": 6,
   "id": "83abb03c",
   "metadata": {},
   "outputs": [
    {
     "data": {
      "text/html": [
       "<div>\n",
       "<style scoped>\n",
       "    .dataframe tbody tr th:only-of-type {\n",
       "        vertical-align: middle;\n",
       "    }\n",
       "\n",
       "    .dataframe tbody tr th {\n",
       "        vertical-align: top;\n",
       "    }\n",
       "\n",
       "    .dataframe thead th {\n",
       "        text-align: right;\n",
       "    }\n",
       "</style>\n",
       "<table border=\"1\" class=\"dataframe\">\n",
       "  <thead>\n",
       "    <tr style=\"text-align: right;\">\n",
       "      <th></th>\n",
       "      <th>Payment_Method</th>\n",
       "      <th>Payment_Terms</th>\n",
       "    </tr>\n",
       "  </thead>\n",
       "  <tbody>\n",
       "    <tr>\n",
       "      <th>0</th>\n",
       "      <td>Mastercard</td>\n",
       "      <td>End of month</td>\n",
       "    </tr>\n",
       "    <tr>\n",
       "      <th>1</th>\n",
       "      <td>iDeal</td>\n",
       "      <td>Debit</td>\n",
       "    </tr>\n",
       "    <tr>\n",
       "      <th>2</th>\n",
       "      <td>Visa</td>\n",
       "      <td>End of month</td>\n",
       "    </tr>\n",
       "    <tr>\n",
       "      <th>3</th>\n",
       "      <td>PayPal</td>\n",
       "      <td>Debit</td>\n",
       "    </tr>\n",
       "    <tr>\n",
       "      <th>4</th>\n",
       "      <td>Klarna</td>\n",
       "      <td>Net 14</td>\n",
       "    </tr>\n",
       "  </tbody>\n",
       "</table>\n",
       "</div>"
      ],
      "text/plain": [
       "  Payment_Method Payment_Terms\n",
       "0     Mastercard  End of month\n",
       "1          iDeal         Debit\n",
       "2           Visa  End of month\n",
       "3         PayPal         Debit\n",
       "4         Klarna        Net 14"
      ]
     },
     "execution_count": 6,
     "metadata": {},
     "output_type": "execute_result"
    }
   ],
   "source": [
    "#Create list of conditions\n",
    "conditions = [\n",
    "    (paymentdf['Payment_Method'] == 'Mastercard'),\n",
    "    (paymentdf['Payment_Method'] == 'iDeal'),\n",
    "    (paymentdf['Payment_Method'] == 'Visa'),\n",
    "    (paymentdf['Payment_Method'] == 'PayPal'),\n",
    "    (paymentdf['Payment_Method'] == 'Klarna')\n",
    "    ]\n",
    "\n",
    "#Create list of values that will be assigned to the conditions\n",
    "values = ['End of month', 'Debit', 'End of month', 'Debit', 'Net 14']\n",
    "\n",
    "#Create new column with values\n",
    "paymentdf['Payment_Terms'] = np.select(conditions, values)\n",
    "\n",
    "paymentdf.head(10)"
   ]
  },
  {
   "cell_type": "code",
   "execution_count": 7,
   "id": "46896a00",
   "metadata": {},
   "outputs": [],
   "source": [
    "paymentdf.to_csv('Payments.csv')"
   ]
  },
  {
   "cell_type": "markdown",
   "id": "30141a17",
   "metadata": {},
   "source": [
    "## Store Table"
   ]
  },
  {
   "cell_type": "code",
   "execution_count": 8,
   "id": "d1a8bd12",
   "metadata": {},
   "outputs": [
    {
     "name": "stdout",
     "output_type": "stream",
     "text": [
      "[['Webshop', 'http://www.sneaker-factory.com'], ['Amsterdam', 'Oudezijds Voorburgwal', 'Netherlands'], ['Amsterdam', 'Oudezijds Voorburgwal', 'Netherlands'], ['Rome', 'Via del Corso', 'Italy'], ['Webshop', 'http://www.sneaker-factory.com'], ['Webshop', 'http://www.sneaker-factory.com'], ['Amsterdam', 'Oudezijds Voorburgwal', 'Netherlands'], ['London', 'Carnaby Street', 'United Kingdom'], ['London', 'Carnaby Street', 'United Kingdom'], ['Madrid', 'Calle Preciados', 'Spain']]\n"
     ]
    }
   ],
   "source": [
    "stores = [['Amsterdam','Oudezijds Voorburgwal', 'Netherlands'],\n",
    "['Stockholm','Drottninggatan', 'Sweden'],\n",
    "['London','Carnaby Street', 'United Kingdom'],\n",
    "['Warsaw','Nowy Świat', 'Poland'],\n",
    "['Rome','Via del Corso', 'Italy'],\n",
    "['Madrid','Calle Preciados', 'Spain'],\n",
    "['Webshop','http://www.sneaker-factory.com']\n",
    "         ]\n",
    "\n",
    "\n",
    "#Generate random store data, k = the number of orders\n",
    "storedata = random.choices(stores, weights=(18, 8, 16, 5, 11, 7, 35), k=10)\n",
    "\n",
    "print(storedata)"
   ]
  },
  {
   "cell_type": "code",
   "execution_count": 9,
   "id": "62f8ad1f",
   "metadata": {},
   "outputs": [
    {
     "data": {
      "text/html": [
       "<div>\n",
       "<style scoped>\n",
       "    .dataframe tbody tr th:only-of-type {\n",
       "        vertical-align: middle;\n",
       "    }\n",
       "\n",
       "    .dataframe tbody tr th {\n",
       "        vertical-align: top;\n",
       "    }\n",
       "\n",
       "    .dataframe thead th {\n",
       "        text-align: right;\n",
       "    }\n",
       "</style>\n",
       "<table border=\"1\" class=\"dataframe\">\n",
       "  <thead>\n",
       "    <tr style=\"text-align: right;\">\n",
       "      <th></th>\n",
       "      <th>Store_Location</th>\n",
       "      <th>Address</th>\n",
       "      <th>Country</th>\n",
       "    </tr>\n",
       "  </thead>\n",
       "  <tbody>\n",
       "    <tr>\n",
       "      <th>0</th>\n",
       "      <td>Amsterdam</td>\n",
       "      <td>Oudezijds Voorburgwal</td>\n",
       "      <td>Netherlands</td>\n",
       "    </tr>\n",
       "    <tr>\n",
       "      <th>1</th>\n",
       "      <td>Stockholm</td>\n",
       "      <td>Drottninggatan</td>\n",
       "      <td>Sweden</td>\n",
       "    </tr>\n",
       "    <tr>\n",
       "      <th>2</th>\n",
       "      <td>London</td>\n",
       "      <td>Carnaby Street</td>\n",
       "      <td>United Kingdom</td>\n",
       "    </tr>\n",
       "    <tr>\n",
       "      <th>3</th>\n",
       "      <td>Warsaw</td>\n",
       "      <td>Nowy Świat</td>\n",
       "      <td>Poland</td>\n",
       "    </tr>\n",
       "    <tr>\n",
       "      <th>4</th>\n",
       "      <td>Rome</td>\n",
       "      <td>Via del Corso</td>\n",
       "      <td>Italy</td>\n",
       "    </tr>\n",
       "    <tr>\n",
       "      <th>5</th>\n",
       "      <td>Madrid</td>\n",
       "      <td>Calle Preciados</td>\n",
       "      <td>Spain</td>\n",
       "    </tr>\n",
       "    <tr>\n",
       "      <th>6</th>\n",
       "      <td>Webshop</td>\n",
       "      <td>http://www.sneaker-factory.com</td>\n",
       "      <td>None</td>\n",
       "    </tr>\n",
       "  </tbody>\n",
       "</table>\n",
       "</div>"
      ],
      "text/plain": [
       "  Store_Location                         Address         Country\n",
       "0      Amsterdam           Oudezijds Voorburgwal     Netherlands\n",
       "1      Stockholm                  Drottninggatan          Sweden\n",
       "2         London                  Carnaby Street  United Kingdom\n",
       "3         Warsaw                      Nowy Świat          Poland\n",
       "4           Rome                   Via del Corso           Italy\n",
       "5         Madrid                 Calle Preciados           Spain\n",
       "6        Webshop  http://www.sneaker-factory.com            None"
      ]
     },
     "execution_count": 9,
     "metadata": {},
     "output_type": "execute_result"
    }
   ],
   "source": [
    "storedf = pd.DataFrame (stores, columns = ['Store_Location', 'Address', 'Country'])\n",
    "\n",
    "storedf.head(10)"
   ]
  },
  {
   "cell_type": "code",
   "execution_count": 10,
   "id": "2e1e0698",
   "metadata": {},
   "outputs": [
    {
     "data": {
      "text/html": [
       "<div>\n",
       "<style scoped>\n",
       "    .dataframe tbody tr th:only-of-type {\n",
       "        vertical-align: middle;\n",
       "    }\n",
       "\n",
       "    .dataframe tbody tr th {\n",
       "        vertical-align: top;\n",
       "    }\n",
       "\n",
       "    .dataframe thead th {\n",
       "        text-align: right;\n",
       "    }\n",
       "</style>\n",
       "<table border=\"1\" class=\"dataframe\">\n",
       "  <thead>\n",
       "    <tr style=\"text-align: right;\">\n",
       "      <th></th>\n",
       "      <th>Store_Location</th>\n",
       "      <th>Address</th>\n",
       "      <th>Country</th>\n",
       "    </tr>\n",
       "  </thead>\n",
       "  <tbody>\n",
       "    <tr>\n",
       "      <th>0</th>\n",
       "      <td>Amsterdam</td>\n",
       "      <td>Oudezijds Voorburgwal</td>\n",
       "      <td>Netherlands</td>\n",
       "    </tr>\n",
       "    <tr>\n",
       "      <th>1</th>\n",
       "      <td>Stockholm</td>\n",
       "      <td>Drottninggatan</td>\n",
       "      <td>Sweden</td>\n",
       "    </tr>\n",
       "    <tr>\n",
       "      <th>2</th>\n",
       "      <td>London</td>\n",
       "      <td>Carnaby Street</td>\n",
       "      <td>United Kingdom</td>\n",
       "    </tr>\n",
       "    <tr>\n",
       "      <th>3</th>\n",
       "      <td>Warsaw</td>\n",
       "      <td>Nowy Świat</td>\n",
       "      <td>Poland</td>\n",
       "    </tr>\n",
       "    <tr>\n",
       "      <th>4</th>\n",
       "      <td>Rome</td>\n",
       "      <td>Via del Corso</td>\n",
       "      <td>Italy</td>\n",
       "    </tr>\n",
       "    <tr>\n",
       "      <th>5</th>\n",
       "      <td>Madrid</td>\n",
       "      <td>Calle Preciados</td>\n",
       "      <td>Spain</td>\n",
       "    </tr>\n",
       "    <tr>\n",
       "      <th>6</th>\n",
       "      <td>Webshop</td>\n",
       "      <td>http://www.sneaker-factory.com</td>\n",
       "      <td>None</td>\n",
       "    </tr>\n",
       "  </tbody>\n",
       "</table>\n",
       "</div>"
      ],
      "text/plain": [
       "  Store_Location                         Address         Country\n",
       "0      Amsterdam           Oudezijds Voorburgwal     Netherlands\n",
       "1      Stockholm                  Drottninggatan          Sweden\n",
       "2         London                  Carnaby Street  United Kingdom\n",
       "3         Warsaw                      Nowy Świat          Poland\n",
       "4           Rome                   Via del Corso           Italy\n",
       "5         Madrid                 Calle Preciados           Spain\n",
       "6        Webshop  http://www.sneaker-factory.com            None"
      ]
     },
     "execution_count": 10,
     "metadata": {},
     "output_type": "execute_result"
    }
   ],
   "source": [
    "#storedf.index += 1\n",
    "storedf.index\n",
    "storedf.head(10)"
   ]
  },
  {
   "cell_type": "code",
   "execution_count": 11,
   "id": "9f6e16a4",
   "metadata": {},
   "outputs": [],
   "source": [
    "storedf.to_csv('Stores.csv')"
   ]
  },
  {
   "cell_type": "markdown",
   "id": "234f2483",
   "metadata": {},
   "source": [
    "## Discount Table"
   ]
  },
  {
   "cell_type": "code",
   "execution_count": 12,
   "id": "01b0fd70",
   "metadata": {},
   "outputs": [
    {
     "name": "stdout",
     "output_type": "stream",
     "text": [
      "['17 Oct', '07 Nov', '16 Jul', '26 Jul', '01 Nov', '18 Feb', '14 May', '06 Aug', '21 Jul', '26 Mar', '08 Mar', '30 Aug', '16 Jan', '13 Jun', '19 Jan', '31 Mar', '14 Apr', '18 Aug', '29 May', '15 Mar']\n"
     ]
    }
   ],
   "source": [
    "import datetime\n",
    "\n",
    "faker = Faker()\n",
    "discountlist = [] \n",
    "for _ in range(20):\n",
    "    discountlist.append((faker.date_between(start_date='-18y', end_date='now')).strftime(\"%d %b\"))\n",
    "    \n",
    "print(discountlist)"
   ]
  },
  {
   "cell_type": "code",
   "execution_count": 13,
   "id": "0d30a2e6",
   "metadata": {},
   "outputs": [
    {
     "name": "stdout",
     "output_type": "stream",
     "text": [
      "No discount\n",
      "No discount\n",
      "No discount\n",
      "No discount\n",
      "No discount\n",
      "No discount\n",
      "No discount\n",
      "No discount\n",
      "No discount\n",
      "Spring deal\n",
      "No discount\n",
      "No discount\n",
      "No discount\n",
      "No discount\n",
      "No discount\n",
      "Spring deal\n",
      "No discount\n",
      "No discount\n",
      "No discount\n",
      "No discount\n"
     ]
    }
   ],
   "source": [
    "for i in discountlist:\n",
    "    if int(i[:2]) <= 7 and str(i[-3:]) == \"Jan\":\n",
    "        print(\"New Year discount\")\n",
    "    elif i[-3:] == \"Dec\":\n",
    "        print(\"Christmas discount\")\n",
    "    elif (int(i[:2]) >= 21 and str(i[-3:]) == \"Mar\") or (int(i[:2]) <= 3 and str(i[-3:]) == \"Apr\"):\n",
    "        print(\"Spring deal\")\n",
    "    elif int(i[:2]) == 22 and str(i[-3:]) == \"Apr\":\n",
    "        print(\"Earth day\")\n",
    "    else:\n",
    "        print(\"No discount\")"
   ]
  },
  {
   "cell_type": "code",
   "execution_count": 14,
   "id": "8de4118a",
   "metadata": {},
   "outputs": [],
   "source": [
    "discount = [['Christmas', '20 Dec', '24 Dec', 15, 0],\n",
    "            ['New Year', '02 Jan', '05 Jan', 0, 20],\n",
    "            ['Earth Day', '22 Apr', '22 Apr', 10, 0],\n",
    "            ['Spring deal', '18 Mar', '22 Mar', 10, 0]\n",
    "           ]\n",
    "\n",
    "\n"
   ]
  },
  {
   "cell_type": "markdown",
   "id": "ae01713c",
   "metadata": {},
   "source": [
    "## Product table"
   ]
  },
  {
   "cell_type": "code",
   "execution_count": 15,
   "id": "176a8279",
   "metadata": {},
   "outputs": [],
   "source": [
    "import itertools\n",
    "import pandas as pd\n",
    "\n",
    "size = []\n",
    "for i in range(36,49):\n",
    "    size.append(i)\n",
    "\n",
    "color = ['Crimson', 'Navy', 'Olive', 'Baby Blue',\n",
    "         'Cyan', 'Coral', 'Azure', 'Denim', 'Peach'\n",
    "        ]\n",
    "\n",
    "#A nested list with all product specifications is used to find all the possible permutations \n",
    "productcategories = [['SWEATZY_MEN','SWEATZY_WOMEN',\n",
    "               'WOVE_MEN','WOVE_WOMEN',\n",
    "               'BOOTWEAR_MEN','BOOTWEAR_WOMEN',\n",
    "               'FROVE_MEN','FROVE_WOMEN',\n",
    "               'SWOONIX_MEN','SWOONIX_WOMEN'\n",
    "              ],\n",
    "               ['Crimson', 'Navy', 'Olive', 'Baby Blue',\n",
    "                'Cyan', 'Coral', 'Azure', 'Denim', 'Peach'],\n",
    "               size\n",
    "              ]"
   ]
  },
  {
   "cell_type": "markdown",
   "id": "551863eb",
   "metadata": {},
   "source": [
    "### Listing all permutations for products "
   ]
  },
  {
   "cell_type": "code",
   "execution_count": 16,
   "id": "d9dda0c6",
   "metadata": {},
   "outputs": [
    {
     "data": {
      "text/html": [
       "<div>\n",
       "<style scoped>\n",
       "    .dataframe tbody tr th:only-of-type {\n",
       "        vertical-align: middle;\n",
       "    }\n",
       "\n",
       "    .dataframe tbody tr th {\n",
       "        vertical-align: top;\n",
       "    }\n",
       "\n",
       "    .dataframe thead th {\n",
       "        text-align: right;\n",
       "    }\n",
       "</style>\n",
       "<table border=\"1\" class=\"dataframe\">\n",
       "  <thead>\n",
       "    <tr style=\"text-align: right;\">\n",
       "      <th></th>\n",
       "      <th>Product_Name</th>\n",
       "      <th>Product_Color</th>\n",
       "      <th>Product_Size</th>\n",
       "    </tr>\n",
       "  </thead>\n",
       "  <tbody>\n",
       "    <tr>\n",
       "      <th>0</th>\n",
       "      <td>SWEATZY_MEN</td>\n",
       "      <td>Crimson</td>\n",
       "      <td>36</td>\n",
       "    </tr>\n",
       "    <tr>\n",
       "      <th>1</th>\n",
       "      <td>SWEATZY_MEN</td>\n",
       "      <td>Crimson</td>\n",
       "      <td>37</td>\n",
       "    </tr>\n",
       "    <tr>\n",
       "      <th>2</th>\n",
       "      <td>SWEATZY_MEN</td>\n",
       "      <td>Crimson</td>\n",
       "      <td>38</td>\n",
       "    </tr>\n",
       "    <tr>\n",
       "      <th>3</th>\n",
       "      <td>SWEATZY_MEN</td>\n",
       "      <td>Crimson</td>\n",
       "      <td>39</td>\n",
       "    </tr>\n",
       "    <tr>\n",
       "      <th>4</th>\n",
       "      <td>SWEATZY_MEN</td>\n",
       "      <td>Crimson</td>\n",
       "      <td>40</td>\n",
       "    </tr>\n",
       "  </tbody>\n",
       "</table>\n",
       "</div>"
      ],
      "text/plain": [
       "  Product_Name Product_Color  Product_Size\n",
       "0  SWEATZY_MEN       Crimson            36\n",
       "1  SWEATZY_MEN       Crimson            37\n",
       "2  SWEATZY_MEN       Crimson            38\n",
       "3  SWEATZY_MEN       Crimson            39\n",
       "4  SWEATZY_MEN       Crimson            40"
      ]
     },
     "execution_count": 16,
     "metadata": {},
     "output_type": "execute_result"
    }
   ],
   "source": [
    "products = list(itertools.product(*productcategories))\n",
    "\n",
    "productsdf = pd.DataFrame (products, columns = ['Product_Name', 'Product_Color', 'Product_Size'])\n",
    "productsdf.head(5)\n"
   ]
  },
  {
   "cell_type": "code",
   "execution_count": 17,
   "id": "3a5514ae",
   "metadata": {},
   "outputs": [
    {
     "data": {
      "text/plain": [
       "(1170, 3)"
      ]
     },
     "execution_count": 17,
     "metadata": {},
     "output_type": "execute_result"
    }
   ],
   "source": [
    "productsdf.shape"
   ]
  },
  {
   "cell_type": "code",
   "execution_count": 18,
   "id": "6791eb92",
   "metadata": {},
   "outputs": [
    {
     "name": "stdout",
     "output_type": "stream",
     "text": [
      "[['SWEATZY_KIDS', 'WOVE_KIDS', 'BOOTWEAR_KIDS', 'FROVE_KIDS', 'SWOONIX_KIDS'], ['Crimson', 'Navy', 'Olive', 'Baby Blue', 'Cyan', 'Coral', 'Azure', 'Denim', 'Peach'], [26, 27, 28, 29, 30, 31, 32, 33, 34, 35, 36, 37, 38]]\n"
     ]
    }
   ],
   "source": [
    "kidssize = []\n",
    "for i in range(26, 39):\n",
    "    kidssize.append(i)\n",
    "\n",
    "kidscategories = [['SWEATZY_KIDS', 'WOVE_KIDS', 'BOOTWEAR_KIDS', 'FROVE_KIDS', 'SWOONIX_KIDS'],\n",
    "                ['Crimson', 'Navy', 'Olive', 'Baby Blue',\n",
    "                 'Cyan', 'Coral', 'Azure', 'Denim', 'Peach'],\n",
    "                kidssize\n",
    "               ]\n",
    "print(kidscategories)\n"
   ]
  },
  {
   "cell_type": "markdown",
   "id": "3caf4588",
   "metadata": {},
   "source": [
    "### Listing all permutations for the kids products"
   ]
  },
  {
   "cell_type": "code",
   "execution_count": 19,
   "id": "2575511d",
   "metadata": {},
   "outputs": [],
   "source": [
    "import itertools\n",
    "kidsproducts = list(itertools.product(*kidscategories))\n"
   ]
  },
  {
   "cell_type": "code",
   "execution_count": 20,
   "id": "8a1b9dfa",
   "metadata": {},
   "outputs": [
    {
     "data": {
      "text/plain": [
       "(585, 3)"
      ]
     },
     "execution_count": 20,
     "metadata": {},
     "output_type": "execute_result"
    }
   ],
   "source": [
    "\n",
    "kidsproductsdf = pd.DataFrame (kidsproducts, columns = ['Product_Name', 'Product_Color', 'Product_Size'])\n",
    "kidsproductsdf.head(5)\n",
    "kidsproductsdf.shape"
   ]
  },
  {
   "cell_type": "code",
   "execution_count": 21,
   "id": "bef0c91f",
   "metadata": {},
   "outputs": [
    {
     "data": {
      "text/html": [
       "<div>\n",
       "<style scoped>\n",
       "    .dataframe tbody tr th:only-of-type {\n",
       "        vertical-align: middle;\n",
       "    }\n",
       "\n",
       "    .dataframe tbody tr th {\n",
       "        vertical-align: top;\n",
       "    }\n",
       "\n",
       "    .dataframe thead th {\n",
       "        text-align: right;\n",
       "    }\n",
       "</style>\n",
       "<table border=\"1\" class=\"dataframe\">\n",
       "  <thead>\n",
       "    <tr style=\"text-align: right;\">\n",
       "      <th></th>\n",
       "      <th>Product_Size</th>\n",
       "    </tr>\n",
       "  </thead>\n",
       "  <tbody>\n",
       "    <tr>\n",
       "      <th>count</th>\n",
       "      <td>585.000000</td>\n",
       "    </tr>\n",
       "    <tr>\n",
       "      <th>mean</th>\n",
       "      <td>32.000000</td>\n",
       "    </tr>\n",
       "    <tr>\n",
       "      <th>std</th>\n",
       "      <td>3.744859</td>\n",
       "    </tr>\n",
       "    <tr>\n",
       "      <th>min</th>\n",
       "      <td>26.000000</td>\n",
       "    </tr>\n",
       "    <tr>\n",
       "      <th>25%</th>\n",
       "      <td>29.000000</td>\n",
       "    </tr>\n",
       "    <tr>\n",
       "      <th>50%</th>\n",
       "      <td>32.000000</td>\n",
       "    </tr>\n",
       "    <tr>\n",
       "      <th>75%</th>\n",
       "      <td>35.000000</td>\n",
       "    </tr>\n",
       "    <tr>\n",
       "      <th>max</th>\n",
       "      <td>38.000000</td>\n",
       "    </tr>\n",
       "  </tbody>\n",
       "</table>\n",
       "</div>"
      ],
      "text/plain": [
       "       Product_Size\n",
       "count    585.000000\n",
       "mean      32.000000\n",
       "std        3.744859\n",
       "min       26.000000\n",
       "25%       29.000000\n",
       "50%       32.000000\n",
       "75%       35.000000\n",
       "max       38.000000"
      ]
     },
     "execution_count": 21,
     "metadata": {},
     "output_type": "execute_result"
    }
   ],
   "source": [
    "kidsproductsdf.describe()"
   ]
  },
  {
   "cell_type": "markdown",
   "id": "aca0bbc2",
   "metadata": {},
   "source": [
    "### Appending kids dataframe to other dataframe to create one products dataframe"
   ]
  },
  {
   "cell_type": "code",
   "execution_count": 22,
   "id": "3ca8fa21",
   "metadata": {},
   "outputs": [
    {
     "data": {
      "text/html": [
       "<div>\n",
       "<style scoped>\n",
       "    .dataframe tbody tr th:only-of-type {\n",
       "        vertical-align: middle;\n",
       "    }\n",
       "\n",
       "    .dataframe tbody tr th {\n",
       "        vertical-align: top;\n",
       "    }\n",
       "\n",
       "    .dataframe thead th {\n",
       "        text-align: right;\n",
       "    }\n",
       "</style>\n",
       "<table border=\"1\" class=\"dataframe\">\n",
       "  <thead>\n",
       "    <tr style=\"text-align: right;\">\n",
       "      <th></th>\n",
       "      <th>Product_Size</th>\n",
       "    </tr>\n",
       "  </thead>\n",
       "  <tbody>\n",
       "    <tr>\n",
       "      <th>count</th>\n",
       "      <td>1755.000000</td>\n",
       "    </tr>\n",
       "    <tr>\n",
       "      <th>mean</th>\n",
       "      <td>38.666667</td>\n",
       "    </tr>\n",
       "    <tr>\n",
       "      <th>std</th>\n",
       "      <td>6.020205</td>\n",
       "    </tr>\n",
       "    <tr>\n",
       "      <th>min</th>\n",
       "      <td>26.000000</td>\n",
       "    </tr>\n",
       "    <tr>\n",
       "      <th>25%</th>\n",
       "      <td>35.000000</td>\n",
       "    </tr>\n",
       "    <tr>\n",
       "      <th>50%</th>\n",
       "      <td>39.000000</td>\n",
       "    </tr>\n",
       "    <tr>\n",
       "      <th>75%</th>\n",
       "      <td>44.000000</td>\n",
       "    </tr>\n",
       "    <tr>\n",
       "      <th>max</th>\n",
       "      <td>48.000000</td>\n",
       "    </tr>\n",
       "  </tbody>\n",
       "</table>\n",
       "</div>"
      ],
      "text/plain": [
       "       Product_Size\n",
       "count   1755.000000\n",
       "mean      38.666667\n",
       "std        6.020205\n",
       "min       26.000000\n",
       "25%       35.000000\n",
       "50%       39.000000\n",
       "75%       44.000000\n",
       "max       48.000000"
      ]
     },
     "execution_count": 22,
     "metadata": {},
     "output_type": "execute_result"
    }
   ],
   "source": [
    "productsdf = productsdf.append(kidsproductsdf)\n",
    "productsdf.describe()\n"
   ]
  },
  {
   "cell_type": "markdown",
   "id": "db22f472",
   "metadata": {},
   "source": [
    "### Conditions for product price of different shoes"
   ]
  },
  {
   "cell_type": "code",
   "execution_count": 23,
   "id": "616322e4",
   "metadata": {},
   "outputs": [],
   "source": [
    "def productprice (row):\n",
    "    if row['Product_Name'] == 'SWEATZY_KIDS' :\n",
    "        return 39.95\n",
    "    if row['Product_Name'] == 'SWEATZY_MEN' or row['Product_Name'] == 'SWEATZY_WOMEN':\n",
    "        return 49.95\n",
    "    if row['Product_Name'] == 'WOVE_KIDS' :\n",
    "        return 49.95\n",
    "    if row['Product_Name'] == 'WOVE_MEN' or row['Product_Name'] == 'WOVE_WOMEN' :\n",
    "        return 59.95\n",
    "    if row['Product_Name'] == 'BOOTWEAR_KIDS' :\n",
    "        return 64.95\n",
    "    if row['Product_Name'] == 'BOOTWEAR_MEN' or row['Product_Name'] == 'BOOTWEAR_WOMEN' :\n",
    "        return 74.95\n",
    "    if row['Product_Name'] == 'FROVE_KIDS' :\n",
    "        return 49.95\n",
    "    if row['Product_Name'] == 'FROVE_MEN' or row['Product_Name'] == 'FROVE_WOMEN' :\n",
    "        return 59.95\n",
    "    if row['Product_Name'] == 'SWOONIX_KIDS' :\n",
    "        return 54.95\n",
    "    if row['Product_Name'] == 'SWOONIX_MEN' or row['Product_Name'] == 'SWOONIX_WOMEN' :\n",
    "        return 64.95\n"
   ]
  },
  {
   "cell_type": "code",
   "execution_count": 24,
   "id": "54fa575d",
   "metadata": {},
   "outputs": [
    {
     "data": {
      "text/plain": [
       "0      49.95\n",
       "1      49.95\n",
       "2      49.95\n",
       "3      49.95\n",
       "4      49.95\n",
       "       ...  \n",
       "580    54.95\n",
       "581    54.95\n",
       "582    54.95\n",
       "583    54.95\n",
       "584    54.95\n",
       "Length: 1755, dtype: float64"
      ]
     },
     "execution_count": 24,
     "metadata": {},
     "output_type": "execute_result"
    }
   ],
   "source": [
    "productsdf.apply (lambda row: productprice(row), axis=1)"
   ]
  },
  {
   "cell_type": "code",
   "execution_count": 25,
   "id": "64495bc2",
   "metadata": {},
   "outputs": [
    {
     "data": {
      "text/html": [
       "<div>\n",
       "<style scoped>\n",
       "    .dataframe tbody tr th:only-of-type {\n",
       "        vertical-align: middle;\n",
       "    }\n",
       "\n",
       "    .dataframe tbody tr th {\n",
       "        vertical-align: top;\n",
       "    }\n",
       "\n",
       "    .dataframe thead th {\n",
       "        text-align: right;\n",
       "    }\n",
       "</style>\n",
       "<table border=\"1\" class=\"dataframe\">\n",
       "  <thead>\n",
       "    <tr style=\"text-align: right;\">\n",
       "      <th></th>\n",
       "      <th>Product_Name</th>\n",
       "      <th>Product_Color</th>\n",
       "      <th>Product_Size</th>\n",
       "      <th>Product_Price</th>\n",
       "    </tr>\n",
       "  </thead>\n",
       "  <tbody>\n",
       "    <tr>\n",
       "      <th>0</th>\n",
       "      <td>SWEATZY_MEN</td>\n",
       "      <td>Crimson</td>\n",
       "      <td>36</td>\n",
       "      <td>49.95</td>\n",
       "    </tr>\n",
       "    <tr>\n",
       "      <th>1</th>\n",
       "      <td>SWEATZY_MEN</td>\n",
       "      <td>Crimson</td>\n",
       "      <td>37</td>\n",
       "      <td>49.95</td>\n",
       "    </tr>\n",
       "    <tr>\n",
       "      <th>2</th>\n",
       "      <td>SWEATZY_MEN</td>\n",
       "      <td>Crimson</td>\n",
       "      <td>38</td>\n",
       "      <td>49.95</td>\n",
       "    </tr>\n",
       "    <tr>\n",
       "      <th>3</th>\n",
       "      <td>SWEATZY_MEN</td>\n",
       "      <td>Crimson</td>\n",
       "      <td>39</td>\n",
       "      <td>49.95</td>\n",
       "    </tr>\n",
       "    <tr>\n",
       "      <th>4</th>\n",
       "      <td>SWEATZY_MEN</td>\n",
       "      <td>Crimson</td>\n",
       "      <td>40</td>\n",
       "      <td>49.95</td>\n",
       "    </tr>\n",
       "    <tr>\n",
       "      <th>...</th>\n",
       "      <td>...</td>\n",
       "      <td>...</td>\n",
       "      <td>...</td>\n",
       "      <td>...</td>\n",
       "    </tr>\n",
       "    <tr>\n",
       "      <th>525</th>\n",
       "      <td>SWOONIX_KIDS</td>\n",
       "      <td>Cyan</td>\n",
       "      <td>31</td>\n",
       "      <td>54.95</td>\n",
       "    </tr>\n",
       "    <tr>\n",
       "      <th>526</th>\n",
       "      <td>SWOONIX_KIDS</td>\n",
       "      <td>Cyan</td>\n",
       "      <td>32</td>\n",
       "      <td>54.95</td>\n",
       "    </tr>\n",
       "    <tr>\n",
       "      <th>527</th>\n",
       "      <td>SWOONIX_KIDS</td>\n",
       "      <td>Cyan</td>\n",
       "      <td>33</td>\n",
       "      <td>54.95</td>\n",
       "    </tr>\n",
       "    <tr>\n",
       "      <th>528</th>\n",
       "      <td>SWOONIX_KIDS</td>\n",
       "      <td>Cyan</td>\n",
       "      <td>34</td>\n",
       "      <td>54.95</td>\n",
       "    </tr>\n",
       "    <tr>\n",
       "      <th>529</th>\n",
       "      <td>SWOONIX_KIDS</td>\n",
       "      <td>Cyan</td>\n",
       "      <td>35</td>\n",
       "      <td>54.95</td>\n",
       "    </tr>\n",
       "  </tbody>\n",
       "</table>\n",
       "<p>1700 rows × 4 columns</p>\n",
       "</div>"
      ],
      "text/plain": [
       "     Product_Name Product_Color  Product_Size  Product_Price\n",
       "0     SWEATZY_MEN       Crimson            36          49.95\n",
       "1     SWEATZY_MEN       Crimson            37          49.95\n",
       "2     SWEATZY_MEN       Crimson            38          49.95\n",
       "3     SWEATZY_MEN       Crimson            39          49.95\n",
       "4     SWEATZY_MEN       Crimson            40          49.95\n",
       "..            ...           ...           ...            ...\n",
       "525  SWOONIX_KIDS          Cyan            31          54.95\n",
       "526  SWOONIX_KIDS          Cyan            32          54.95\n",
       "527  SWOONIX_KIDS          Cyan            33          54.95\n",
       "528  SWOONIX_KIDS          Cyan            34          54.95\n",
       "529  SWOONIX_KIDS          Cyan            35          54.95\n",
       "\n",
       "[1700 rows x 4 columns]"
      ]
     },
     "execution_count": 25,
     "metadata": {},
     "output_type": "execute_result"
    }
   ],
   "source": [
    "productsdf['Product_Price'] = productsdf.apply (lambda row: productprice(row), axis=1)\n",
    "productsdf.head(1700)"
   ]
  },
  {
   "cell_type": "markdown",
   "id": "7b518274",
   "metadata": {},
   "source": [
    "### Probabilities of shoe sizes"
   ]
  },
  {
   "cell_type": "markdown",
   "id": "5bebbcfc",
   "metadata": {},
   "source": [
    "#### Men"
   ]
  },
  {
   "cell_type": "code",
   "execution_count": 28,
   "id": "c08a7895",
   "metadata": {},
   "outputs": [
    {
     "name": "stdout",
     "output_type": "stream",
     "text": [
      "[35, 36, 37, 38, 39, 40, 41, 42, 43, 44, 45, 46, 47, 48, 49]\n"
     ]
    }
   ],
   "source": [
    "sizes = []\n",
    "for i in range(35,50):\n",
    "    sizes.append(i)\n",
    "print(sizes)"
   ]
  },
  {
   "cell_type": "code",
   "execution_count": 29,
   "id": "13c514b7",
   "metadata": {},
   "outputs": [
    {
     "name": "stdout",
     "output_type": "stream",
     "text": [
      "[-3.75, -3.25, -2.75, -2.25, -1.75, -1.25, -0.75, -0.25, 0.25, 0.75, 1.25, 1.75, 2.25, 2.75, 3.25]\n"
     ]
    }
   ],
   "source": [
    "import scipy.stats as st\n",
    "\n",
    "u = 43.00\n",
    "o = 2.00\n",
    "\n",
    "Zscores = []\n",
    "for i in sizes:\n",
    "    Z = ((i+0.5)-u)/o\n",
    "    Zscores.append(Z)\n",
    "\n",
    "print(Zscores)"
   ]
  },
  {
   "cell_type": "code",
   "execution_count": 30,
   "id": "3a061111",
   "metadata": {},
   "outputs": [
    {
     "name": "stdout",
     "output_type": "stream",
     "text": [
      "[8.841728520080377e-05, 0.0005770250423907659, 0.002979763235054555, 0.012224472655044696, 0.040059156863817086, 0.10564977366685535, 0.2266273523768682, 0.4012936743170763, 0.5987063256829237, 0.7733726476231317, 0.8943502263331446, 0.9599408431361829, 0.9877755273449553, 0.9970202367649454, 0.9994229749576092]\n"
     ]
    }
   ],
   "source": [
    "pvalues = []\n",
    "\n",
    "for i in Zscores:\n",
    "    p = st.norm.cdf(i)\n",
    "    pvalues.append(p)\n",
    "    \n",
    "print(pvalues)"
   ]
  },
  {
   "cell_type": "code",
   "execution_count": 31,
   "id": "8e09cdb7",
   "metadata": {},
   "outputs": [
    {
     "name": "stdout",
     "output_type": "stream",
     "text": [
      "[0.0005, 0.0024, 0.0092, 0.0278, 0.0656, 0.121, 0.1747, 0.1974, 0.1747, 0.121, 0.0656, 0.0278, 0.0092, 0.0024]\n"
     ]
    }
   ],
   "source": [
    "sizeprobability = []\n",
    "for i in range(len(pvalues)):\n",
    "    p_upper = pvalues[i]\n",
    "    p_lower = pvalues[i-1]\n",
    "    p = p_upper - p_lower\n",
    "    sizeprobability.append(round(p, 4))\n",
    "\n",
    "del sizeprobability[0]\n",
    "print(sizeprobability)"
   ]
  },
  {
   "cell_type": "markdown",
   "id": "1a0f2852",
   "metadata": {},
   "source": [
    "#### Men shoe size probabilties to dictionary"
   ]
  },
  {
   "cell_type": "code",
   "execution_count": 32,
   "id": "59a35ee9",
   "metadata": {},
   "outputs": [
    {
     "name": "stdout",
     "output_type": "stream",
     "text": [
      "{36: 0.0005, 37: 0.0024, 38: 0.0092, 39: 0.0278, 40: 0.0656, 41: 0.121, 42: 0.1747, 43: 0.1974, 44: 0.1747, 45: 0.121, 46: 0.0656, 47: 0.0278, 48: 0.0092}\n"
     ]
    }
   ],
   "source": [
    "sizedict = {}\n",
    "for key in size:\n",
    "    for prob in sizeprobability:\n",
    "        sizedict[key] = prob\n",
    "        sizeprobability.remove(prob)\n",
    "        break\n",
    "\n",
    "print(sizedict)"
   ]
  },
  {
   "cell_type": "markdown",
   "id": "5c92b2b8",
   "metadata": {},
   "source": [
    "#### Women"
   ]
  },
  {
   "cell_type": "code",
   "execution_count": 33,
   "id": "2f24a077",
   "metadata": {},
   "outputs": [
    {
     "name": "stdout",
     "output_type": "stream",
     "text": [
      "[35, 36, 37, 38, 39, 40, 41, 42, 43, 44, 45]\n",
      "[34, 35, 36, 37, 38, 39, 40, 41, 42, 43, 44, 45, 46]\n"
     ]
    }
   ],
   "source": [
    "womensize = []\n",
    "for i in range(35,46):\n",
    "    womensize.append(i)\n",
    "print(womensize)\n",
    "\n",
    "wsize = []\n",
    "\n",
    "for i in range(34, 47):\n",
    "    wsize.append(i)\n",
    "print(wsize)"
   ]
  },
  {
   "cell_type": "code",
   "execution_count": 34,
   "id": "1e1ba0c6",
   "metadata": {},
   "outputs": [
    {
     "name": "stdout",
     "output_type": "stream",
     "text": [
      "[-2.25, -1.75, -1.25, -0.75, -0.25, 0.25, 0.75, 1.25, 1.75, 2.25, 2.75, 3.25, 3.75]\n"
     ]
    }
   ],
   "source": [
    "u = 39.00\n",
    "o = 2.00\n",
    "\n",
    "Zscores = []\n",
    "for i in wsize:\n",
    "    Z = ((i+0.5)-u)/o\n",
    "    Zscores.append(Z)\n",
    "\n",
    "print(Zscores)"
   ]
  },
  {
   "cell_type": "code",
   "execution_count": 35,
   "id": "eff9506e",
   "metadata": {},
   "outputs": [
    {
     "name": "stdout",
     "output_type": "stream",
     "text": [
      "[0.012224472655044696, 0.040059156863817086, 0.10564977366685535, 0.2266273523768682, 0.4012936743170763, 0.5987063256829237, 0.7733726476231317, 0.8943502263331446, 0.9599408431361829, 0.9877755273449553, 0.9970202367649454, 0.9994229749576092, 0.9999115827147992]\n"
     ]
    }
   ],
   "source": [
    "pvalues = []\n",
    "\n",
    "for i in Zscores:\n",
    "    p = st.norm.cdf(i)\n",
    "    pvalues.append(p)\n",
    "    \n",
    "print(pvalues)"
   ]
  },
  {
   "cell_type": "code",
   "execution_count": 36,
   "id": "b35943cc",
   "metadata": {},
   "outputs": [
    {
     "name": "stdout",
     "output_type": "stream",
     "text": [
      "[0.0278, 0.0656, 0.121, 0.1747, 0.1974, 0.1747, 0.121, 0.0656, 0.0278, 0.0092, 0.0024, 0.0005]\n"
     ]
    }
   ],
   "source": [
    "wsizeprobability = []\n",
    "for i in range(len(pvalues)):\n",
    "    p_upper = pvalues[i]\n",
    "    p_lower = pvalues[i-1]\n",
    "    p = p_upper - p_lower\n",
    "    wsizeprobability.append(round(p, 4))\n",
    "\n",
    "del wsizeprobability[0]\n",
    "print(wsizeprobability)"
   ]
  },
  {
   "cell_type": "code",
   "execution_count": 37,
   "id": "8a9ef4bc",
   "metadata": {},
   "outputs": [
    {
     "name": "stdout",
     "output_type": "stream",
     "text": [
      "{35: 0.0278, 36: 0.0656, 37: 0.121, 38: 0.1747, 39: 0.1974, 40: 0.1747, 41: 0.121, 42: 0.0656, 43: 0.0278, 44: 0.0092, 45: 0.0024}\n"
     ]
    }
   ],
   "source": [
    "wsizedict = {}\n",
    "for key in womensize:\n",
    "    for prob in wsizeprobability:\n",
    "        wsizedict[key] = prob\n",
    "        wsizeprobability.remove(prob)\n",
    "        break\n",
    "\n",
    "print(wsizedict)"
   ]
  },
  {
   "cell_type": "markdown",
   "id": "f18124ad",
   "metadata": {},
   "source": [
    "### Remove women shoes with size > 45"
   ]
  },
  {
   "cell_type": "code",
   "execution_count": 61,
   "id": "2fff59c4",
   "metadata": {},
   "outputs": [],
   "source": [
    "productsdf = productsdf.drop(productsdf[(productsdf.Product_Size > 45) & (productsdf.Product_Name.str.strip().str[-5:] == 'WOMEN')].index)\n",
    "productsdf = productsdf.drop(productsdf[(productsdf.Product_Size < 39) & (productsdf.Product_Name.str.strip().str[-4:] == '_MEN')].index)\n"
   ]
  },
  {
   "cell_type": "code",
   "execution_count": 39,
   "id": "be3005ba",
   "metadata": {},
   "outputs": [
    {
     "name": "stdout",
     "output_type": "stream",
     "text": [
      "0       SWEATZY_MEN\n",
      "1       SWEATZY_MEN\n",
      "2       SWEATZY_MEN\n",
      "3       SWEATZY_MEN\n",
      "4       SWEATZY_MEN\n",
      "           ...     \n",
      "580    SWOONIX_KIDS\n",
      "581    SWOONIX_KIDS\n",
      "582    SWOONIX_KIDS\n",
      "583    SWOONIX_KIDS\n",
      "584    SWOONIX_KIDS\n",
      "Name: Product_Name, Length: 1566, dtype: object\n"
     ]
    }
   ],
   "source": [
    "print(productsdf.iloc[:,0])#.strip()[-5:])"
   ]
  },
  {
   "cell_type": "markdown",
   "id": "0c060da0",
   "metadata": {},
   "source": [
    "#### Kids"
   ]
  },
  {
   "cell_type": "code",
   "execution_count": 50,
   "id": "20f7a731",
   "metadata": {},
   "outputs": [],
   "source": [
    "kidssizedict = {26:0.069,\n",
    "               27:0.069,\n",
    "               28:0.070,\n",
    "               29:0.071,\n",
    "               30:0.074,\n",
    "               31:0.075,\n",
    "               32:0.076,\n",
    "               33:0.078,\n",
    "               34:0.080,\n",
    "               35:0.082,\n",
    "               36:0.084,\n",
    "               37:0.085,\n",
    "               38:0.087}"
   ]
  },
  {
   "cell_type": "markdown",
   "id": "b5b6bb43",
   "metadata": {},
   "source": [
    "### Function to apply probabilities to Women and Men shoes"
   ]
  },
  {
   "cell_type": "code",
   "execution_count": 62,
   "id": "3113f81b",
   "metadata": {},
   "outputs": [],
   "source": [
    "def sizeprobability(sizep, productname):\n",
    "    if productname.strip()[-4:] == '_MEN':\n",
    "        return sizedict[sizep]\n",
    "    if productname.strip()[-5:] == 'WOMEN':\n",
    "        return wsizedict[sizep]\n",
    "    if productname.strip()[-4:] == 'KIDS':\n",
    "         return kidssizedict[sizep]"
   ]
  },
  {
   "cell_type": "code",
   "execution_count": 42,
   "id": "5659c653",
   "metadata": {},
   "outputs": [
    {
     "data": {
      "text/plain": [
       "0.07"
      ]
     },
     "execution_count": 42,
     "metadata": {},
     "output_type": "execute_result"
    }
   ],
   "source": [
    "kidssizedict[28]\n",
    "\n",
    "\n",
    "# print(sizeprobability(36, 'FROVE_KIDS'))"
   ]
  },
  {
   "cell_type": "code",
   "execution_count": 43,
   "id": "7084af25",
   "metadata": {},
   "outputs": [
    {
     "data": {
      "text/plain": [
       "0.069"
      ]
     },
     "execution_count": 43,
     "metadata": {},
     "output_type": "execute_result"
    }
   ],
   "source": [
    "sizeprobability(26, 'FROVE_KIDS')"
   ]
  },
  {
   "cell_type": "code",
   "execution_count": 53,
   "id": "a65e72da",
   "metadata": {},
   "outputs": [
    {
     "data": {
      "text/html": [
       "<div>\n",
       "<style scoped>\n",
       "    .dataframe tbody tr th:only-of-type {\n",
       "        vertical-align: middle;\n",
       "    }\n",
       "\n",
       "    .dataframe tbody tr th {\n",
       "        vertical-align: top;\n",
       "    }\n",
       "\n",
       "    .dataframe thead th {\n",
       "        text-align: right;\n",
       "    }\n",
       "</style>\n",
       "<table border=\"1\" class=\"dataframe\">\n",
       "  <thead>\n",
       "    <tr style=\"text-align: right;\">\n",
       "      <th></th>\n",
       "      <th>Product_Name</th>\n",
       "      <th>Product_Color</th>\n",
       "      <th>Product_Size</th>\n",
       "      <th>Product_Price</th>\n",
       "    </tr>\n",
       "  </thead>\n",
       "  <tbody>\n",
       "    <tr>\n",
       "      <th>0</th>\n",
       "      <td>SWEATZY_MEN</td>\n",
       "      <td>Crimson</td>\n",
       "      <td>36</td>\n",
       "      <td>49.95</td>\n",
       "    </tr>\n",
       "    <tr>\n",
       "      <th>1</th>\n",
       "      <td>SWEATZY_MEN</td>\n",
       "      <td>Crimson</td>\n",
       "      <td>37</td>\n",
       "      <td>49.95</td>\n",
       "    </tr>\n",
       "    <tr>\n",
       "      <th>2</th>\n",
       "      <td>SWEATZY_MEN</td>\n",
       "      <td>Crimson</td>\n",
       "      <td>38</td>\n",
       "      <td>49.95</td>\n",
       "    </tr>\n",
       "    <tr>\n",
       "      <th>3</th>\n",
       "      <td>SWEATZY_MEN</td>\n",
       "      <td>Crimson</td>\n",
       "      <td>39</td>\n",
       "      <td>49.95</td>\n",
       "    </tr>\n",
       "    <tr>\n",
       "      <th>4</th>\n",
       "      <td>SWEATZY_MEN</td>\n",
       "      <td>Crimson</td>\n",
       "      <td>40</td>\n",
       "      <td>49.95</td>\n",
       "    </tr>\n",
       "  </tbody>\n",
       "</table>\n",
       "</div>"
      ],
      "text/plain": [
       "  Product_Name Product_Color  Product_Size  Product_Price\n",
       "0  SWEATZY_MEN       Crimson            36          49.95\n",
       "1  SWEATZY_MEN       Crimson            37          49.95\n",
       "2  SWEATZY_MEN       Crimson            38          49.95\n",
       "3  SWEATZY_MEN       Crimson            39          49.95\n",
       "4  SWEATZY_MEN       Crimson            40          49.95"
      ]
     },
     "execution_count": 53,
     "metadata": {},
     "output_type": "execute_result"
    }
   ],
   "source": [
    "productsdf.head()"
   ]
  },
  {
   "cell_type": "code",
   "execution_count": 63,
   "id": "38a3839f",
   "metadata": {},
   "outputs": [],
   "source": [
    "productsdf['Probability'] = productsdf.apply(lambda x: sizeprobability(x['Product_Size'], x['Product_Name']), axis=1)\n"
   ]
  },
  {
   "cell_type": "code",
   "execution_count": 48,
   "id": "e6ae13da",
   "metadata": {},
   "outputs": [
    {
     "data": {
      "text/html": [
       "<div>\n",
       "<style scoped>\n",
       "    .dataframe tbody tr th:only-of-type {\n",
       "        vertical-align: middle;\n",
       "    }\n",
       "\n",
       "    .dataframe tbody tr th {\n",
       "        vertical-align: top;\n",
       "    }\n",
       "\n",
       "    .dataframe thead th {\n",
       "        text-align: right;\n",
       "    }\n",
       "</style>\n",
       "<table border=\"1\" class=\"dataframe\">\n",
       "  <thead>\n",
       "    <tr style=\"text-align: right;\">\n",
       "      <th></th>\n",
       "      <th>Product_Size</th>\n",
       "    </tr>\n",
       "  </thead>\n",
       "  <tbody>\n",
       "    <tr>\n",
       "      <th>count</th>\n",
       "      <td>585.000000</td>\n",
       "    </tr>\n",
       "    <tr>\n",
       "      <th>mean</th>\n",
       "      <td>32.000000</td>\n",
       "    </tr>\n",
       "    <tr>\n",
       "      <th>std</th>\n",
       "      <td>3.744859</td>\n",
       "    </tr>\n",
       "    <tr>\n",
       "      <th>min</th>\n",
       "      <td>26.000000</td>\n",
       "    </tr>\n",
       "    <tr>\n",
       "      <th>25%</th>\n",
       "      <td>29.000000</td>\n",
       "    </tr>\n",
       "    <tr>\n",
       "      <th>50%</th>\n",
       "      <td>32.000000</td>\n",
       "    </tr>\n",
       "    <tr>\n",
       "      <th>75%</th>\n",
       "      <td>35.000000</td>\n",
       "    </tr>\n",
       "    <tr>\n",
       "      <th>max</th>\n",
       "      <td>38.000000</td>\n",
       "    </tr>\n",
       "  </tbody>\n",
       "</table>\n",
       "</div>"
      ],
      "text/plain": [
       "       Product_Size\n",
       "count    585.000000\n",
       "mean      32.000000\n",
       "std        3.744859\n",
       "min       26.000000\n",
       "25%       29.000000\n",
       "50%       32.000000\n",
       "75%       35.000000\n",
       "max       38.000000"
      ]
     },
     "execution_count": 48,
     "metadata": {},
     "output_type": "execute_result"
    }
   ],
   "source": [
    "kidsproductsdf.describe()"
   ]
  },
  {
   "cell_type": "code",
   "execution_count": 64,
   "id": "69c956b2",
   "metadata": {},
   "outputs": [
    {
     "data": {
      "text/html": [
       "<div>\n",
       "<style scoped>\n",
       "    .dataframe tbody tr th:only-of-type {\n",
       "        vertical-align: middle;\n",
       "    }\n",
       "\n",
       "    .dataframe tbody tr th {\n",
       "        vertical-align: top;\n",
       "    }\n",
       "\n",
       "    .dataframe thead th {\n",
       "        text-align: right;\n",
       "    }\n",
       "</style>\n",
       "<table border=\"1\" class=\"dataframe\">\n",
       "  <thead>\n",
       "    <tr style=\"text-align: right;\">\n",
       "      <th></th>\n",
       "      <th>Product_Size</th>\n",
       "      <th>Product_Price</th>\n",
       "      <th>Probability</th>\n",
       "    </tr>\n",
       "  </thead>\n",
       "  <tbody>\n",
       "    <tr>\n",
       "      <th>count</th>\n",
       "      <td>1350.000000</td>\n",
       "      <td>1350.000000</td>\n",
       "      <td>1350.000000</td>\n",
       "    </tr>\n",
       "    <tr>\n",
       "      <th>mean</th>\n",
       "      <td>38.766667</td>\n",
       "      <td>58.616667</td>\n",
       "      <td>0.090567</td>\n",
       "    </tr>\n",
       "    <tr>\n",
       "      <th>std</th>\n",
       "      <td>5.603762</td>\n",
       "      <td>9.396149</td>\n",
       "      <td>0.055464</td>\n",
       "    </tr>\n",
       "    <tr>\n",
       "      <th>min</th>\n",
       "      <td>26.000000</td>\n",
       "      <td>39.950000</td>\n",
       "      <td>0.002400</td>\n",
       "    </tr>\n",
       "    <tr>\n",
       "      <th>25%</th>\n",
       "      <td>35.000000</td>\n",
       "      <td>49.950000</td>\n",
       "      <td>0.065600</td>\n",
       "    </tr>\n",
       "    <tr>\n",
       "      <th>50%</th>\n",
       "      <td>39.500000</td>\n",
       "      <td>59.950000</td>\n",
       "      <td>0.076000</td>\n",
       "    </tr>\n",
       "    <tr>\n",
       "      <th>75%</th>\n",
       "      <td>43.000000</td>\n",
       "      <td>64.950000</td>\n",
       "      <td>0.121000</td>\n",
       "    </tr>\n",
       "    <tr>\n",
       "      <th>max</th>\n",
       "      <td>48.000000</td>\n",
       "      <td>74.950000</td>\n",
       "      <td>0.197400</td>\n",
       "    </tr>\n",
       "  </tbody>\n",
       "</table>\n",
       "</div>"
      ],
      "text/plain": [
       "       Product_Size  Product_Price  Probability\n",
       "count   1350.000000    1350.000000  1350.000000\n",
       "mean      38.766667      58.616667     0.090567\n",
       "std        5.603762       9.396149     0.055464\n",
       "min       26.000000      39.950000     0.002400\n",
       "25%       35.000000      49.950000     0.065600\n",
       "50%       39.500000      59.950000     0.076000\n",
       "75%       43.000000      64.950000     0.121000\n",
       "max       48.000000      74.950000     0.197400"
      ]
     },
     "execution_count": 64,
     "metadata": {},
     "output_type": "execute_result"
    }
   ],
   "source": [
    "productsdf.describe()"
   ]
  },
  {
   "cell_type": "code",
   "execution_count": 66,
   "id": "07abbaaa",
   "metadata": {},
   "outputs": [
    {
     "data": {
      "text/html": [
       "<div>\n",
       "<style scoped>\n",
       "    .dataframe tbody tr th:only-of-type {\n",
       "        vertical-align: middle;\n",
       "    }\n",
       "\n",
       "    .dataframe tbody tr th {\n",
       "        vertical-align: top;\n",
       "    }\n",
       "\n",
       "    .dataframe thead th {\n",
       "        text-align: right;\n",
       "    }\n",
       "</style>\n",
       "<table border=\"1\" class=\"dataframe\">\n",
       "  <thead>\n",
       "    <tr style=\"text-align: right;\">\n",
       "      <th></th>\n",
       "      <th>Product_Name</th>\n",
       "      <th>Product_Color</th>\n",
       "      <th>Product_Size</th>\n",
       "      <th>Product_Price</th>\n",
       "      <th>Probability</th>\n",
       "    </tr>\n",
       "  </thead>\n",
       "  <tbody>\n",
       "    <tr>\n",
       "      <th>4</th>\n",
       "      <td>SWEATZY_MEN</td>\n",
       "      <td>Crimson</td>\n",
       "      <td>39</td>\n",
       "      <td>49.95</td>\n",
       "      <td>0.0278</td>\n",
       "    </tr>\n",
       "    <tr>\n",
       "      <th>5</th>\n",
       "      <td>SWEATZY_MEN</td>\n",
       "      <td>Crimson</td>\n",
       "      <td>40</td>\n",
       "      <td>49.95</td>\n",
       "      <td>0.0656</td>\n",
       "    </tr>\n",
       "    <tr>\n",
       "      <th>6</th>\n",
       "      <td>SWEATZY_MEN</td>\n",
       "      <td>Crimson</td>\n",
       "      <td>41</td>\n",
       "      <td>49.95</td>\n",
       "      <td>0.1210</td>\n",
       "    </tr>\n",
       "    <tr>\n",
       "      <th>7</th>\n",
       "      <td>SWEATZY_MEN</td>\n",
       "      <td>Crimson</td>\n",
       "      <td>42</td>\n",
       "      <td>49.95</td>\n",
       "      <td>0.1747</td>\n",
       "    </tr>\n",
       "    <tr>\n",
       "      <th>8</th>\n",
       "      <td>SWEATZY_MEN</td>\n",
       "      <td>Crimson</td>\n",
       "      <td>43</td>\n",
       "      <td>49.95</td>\n",
       "      <td>0.1974</td>\n",
       "    </tr>\n",
       "    <tr>\n",
       "      <th>...</th>\n",
       "      <td>...</td>\n",
       "      <td>...</td>\n",
       "      <td>...</td>\n",
       "      <td>...</td>\n",
       "      <td>...</td>\n",
       "    </tr>\n",
       "    <tr>\n",
       "      <th>581</th>\n",
       "      <td>SWOONIX_KIDS</td>\n",
       "      <td>Peach</td>\n",
       "      <td>34</td>\n",
       "      <td>54.95</td>\n",
       "      <td>0.0800</td>\n",
       "    </tr>\n",
       "    <tr>\n",
       "      <th>582</th>\n",
       "      <td>SWOONIX_KIDS</td>\n",
       "      <td>Peach</td>\n",
       "      <td>35</td>\n",
       "      <td>54.95</td>\n",
       "      <td>0.0820</td>\n",
       "    </tr>\n",
       "    <tr>\n",
       "      <th>583</th>\n",
       "      <td>SWOONIX_KIDS</td>\n",
       "      <td>Peach</td>\n",
       "      <td>36</td>\n",
       "      <td>54.95</td>\n",
       "      <td>0.0840</td>\n",
       "    </tr>\n",
       "    <tr>\n",
       "      <th>584</th>\n",
       "      <td>SWOONIX_KIDS</td>\n",
       "      <td>Peach</td>\n",
       "      <td>37</td>\n",
       "      <td>54.95</td>\n",
       "      <td>0.0850</td>\n",
       "    </tr>\n",
       "    <tr>\n",
       "      <th>585</th>\n",
       "      <td>SWOONIX_KIDS</td>\n",
       "      <td>Peach</td>\n",
       "      <td>38</td>\n",
       "      <td>54.95</td>\n",
       "      <td>0.0870</td>\n",
       "    </tr>\n",
       "  </tbody>\n",
       "</table>\n",
       "<p>1350 rows × 5 columns</p>\n",
       "</div>"
      ],
      "text/plain": [
       "     Product_Name Product_Color  Product_Size  Product_Price  Probability\n",
       "4     SWEATZY_MEN       Crimson            39          49.95       0.0278\n",
       "5     SWEATZY_MEN       Crimson            40          49.95       0.0656\n",
       "6     SWEATZY_MEN       Crimson            41          49.95       0.1210\n",
       "7     SWEATZY_MEN       Crimson            42          49.95       0.1747\n",
       "8     SWEATZY_MEN       Crimson            43          49.95       0.1974\n",
       "..            ...           ...           ...            ...          ...\n",
       "581  SWOONIX_KIDS         Peach            34          54.95       0.0800\n",
       "582  SWOONIX_KIDS         Peach            35          54.95       0.0820\n",
       "583  SWOONIX_KIDS         Peach            36          54.95       0.0840\n",
       "584  SWOONIX_KIDS         Peach            37          54.95       0.0850\n",
       "585  SWOONIX_KIDS         Peach            38          54.95       0.0870\n",
       "\n",
       "[1350 rows x 5 columns]"
      ]
     },
     "metadata": {},
     "output_type": "display_data"
    }
   ],
   "source": [
    "display(productsdf)"
   ]
  },
  {
   "cell_type": "markdown",
   "id": "698aac50",
   "metadata": {},
   "source": [
    "### Changing index start from 0 to 1"
   ]
  },
  {
   "cell_type": "code",
   "execution_count": null,
   "id": "1773280b",
   "metadata": {},
   "outputs": [],
   "source": [
    "# productsdf.index += 1"
   ]
  },
  {
   "cell_type": "code",
   "execution_count": 67,
   "id": "f051320d",
   "metadata": {},
   "outputs": [],
   "source": [
    "productsdf.to_csv('Products.csv')"
   ]
  }
 ],
 "metadata": {
  "kernelspec": {
   "display_name": "Python 3",
   "language": "python",
   "name": "python3"
  },
  "language_info": {
   "codemirror_mode": {
    "name": "ipython",
    "version": 3
   },
   "file_extension": ".py",
   "mimetype": "text/x-python",
   "name": "python",
   "nbconvert_exporter": "python",
   "pygments_lexer": "ipython3",
   "version": "3.8.8"
  }
 },
 "nbformat": 4,
 "nbformat_minor": 5
}
