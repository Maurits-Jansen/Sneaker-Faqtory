{
 "cells": [
  {
   "cell_type": "code",
   "execution_count": 66,
   "id": "c81681a3",
   "metadata": {},
   "outputs": [],
   "source": [
    "from faker import Faker"
   ]
  },
  {
   "cell_type": "code",
   "execution_count": 67,
   "id": "0ce33f3f",
   "metadata": {},
   "outputs": [
    {
     "name": "stdout",
     "output_type": "stream",
     "text": [
      "Datetime between: 2005-12-13\n",
      "Datetime between: 2021-06-04\n",
      "Datetime between: 2010-11-14\n",
      "Datetime between: 2010-04-14\n",
      "Datetime between: 2012-02-29\n",
      "Datetime between: 2015-11-01\n",
      "Datetime between: 2008-08-30\n",
      "Datetime between: 2013-06-09\n",
      "Datetime between: 2011-10-28\n",
      "Datetime between: 2017-06-13\n"
     ]
    }
   ],
   "source": [
    "faker = Faker()\n",
    "for _ in range(10):\n",
    "    print(f\"Datetime between: {faker.date_between(start_date='-18y', end_date='now')}\")"
   ]
  },
  {
   "cell_type": "markdown",
   "id": "2958606e",
   "metadata": {},
   "source": [
    "## Payment Table"
   ]
  },
  {
   "cell_type": "code",
   "execution_count": 68,
   "id": "bd1bf7ac",
   "metadata": {},
   "outputs": [
    {
     "name": "stdout",
     "output_type": "stream",
     "text": [
      "['Mastercard', 'PayPal', 'Visa', 'Visa', 'Klarna', 'Mastercard', 'Mastercard', 'iDeal', 'Mastercard', 'Mastercard']\n"
     ]
    }
   ],
   "source": [
    "import random\n",
    "import numpy as np\n",
    "\n",
    "paymentmethods = [\"Mastercard\", \"iDeal\", \"Visa\", \"PayPal\", \"Klarna\"]\n",
    "\n",
    "#Generate random payment method data, k = the number of orders\n",
    "paymentdata = random.choices(paymentmethods, weights=(40, 10, 8, 24, 18), k=10)\n",
    "\n",
    "print(paymentdata)"
   ]
  },
  {
   "cell_type": "markdown",
   "id": "c5f96ffe",
   "metadata": {},
   "source": [
    "### Transforming to dataframe in Pandas"
   ]
  },
  {
   "cell_type": "code",
   "execution_count": 69,
   "id": "81067b94",
   "metadata": {},
   "outputs": [
    {
     "data": {
      "text/html": [
       "<div>\n",
       "<style scoped>\n",
       "    .dataframe tbody tr th:only-of-type {\n",
       "        vertical-align: middle;\n",
       "    }\n",
       "\n",
       "    .dataframe tbody tr th {\n",
       "        vertical-align: top;\n",
       "    }\n",
       "\n",
       "    .dataframe thead th {\n",
       "        text-align: right;\n",
       "    }\n",
       "</style>\n",
       "<table border=\"1\" class=\"dataframe\">\n",
       "  <thead>\n",
       "    <tr style=\"text-align: right;\">\n",
       "      <th></th>\n",
       "      <th>Payment_Method</th>\n",
       "    </tr>\n",
       "  </thead>\n",
       "  <tbody>\n",
       "    <tr>\n",
       "      <th>0</th>\n",
       "      <td>Mastercard</td>\n",
       "    </tr>\n",
       "    <tr>\n",
       "      <th>1</th>\n",
       "      <td>iDeal</td>\n",
       "    </tr>\n",
       "    <tr>\n",
       "      <th>2</th>\n",
       "      <td>Visa</td>\n",
       "    </tr>\n",
       "    <tr>\n",
       "      <th>3</th>\n",
       "      <td>PayPal</td>\n",
       "    </tr>\n",
       "    <tr>\n",
       "      <th>4</th>\n",
       "      <td>Klarna</td>\n",
       "    </tr>\n",
       "  </tbody>\n",
       "</table>\n",
       "</div>"
      ],
      "text/plain": [
       "  Payment_Method\n",
       "0     Mastercard\n",
       "1          iDeal\n",
       "2           Visa\n",
       "3         PayPal\n",
       "4         Klarna"
      ]
     },
     "execution_count": 69,
     "metadata": {},
     "output_type": "execute_result"
    }
   ],
   "source": [
    "import pandas as pd\n",
    "paymentdf = pd.DataFrame (paymentmethods, columns = ['Payment_Method'])\n",
    "paymentdf.head()"
   ]
  },
  {
   "cell_type": "code",
   "execution_count": 75,
   "id": "d78276b0",
   "metadata": {},
   "outputs": [],
   "source": [
    "#paymentdf.index += 1"
   ]
  },
  {
   "cell_type": "markdown",
   "id": "7877f735",
   "metadata": {},
   "source": [
    "### Add new column with payment terms for every payment method"
   ]
  },
  {
   "cell_type": "code",
   "execution_count": 76,
   "id": "83abb03c",
   "metadata": {},
   "outputs": [
    {
     "data": {
      "text/html": [
       "<div>\n",
       "<style scoped>\n",
       "    .dataframe tbody tr th:only-of-type {\n",
       "        vertical-align: middle;\n",
       "    }\n",
       "\n",
       "    .dataframe tbody tr th {\n",
       "        vertical-align: top;\n",
       "    }\n",
       "\n",
       "    .dataframe thead th {\n",
       "        text-align: right;\n",
       "    }\n",
       "</style>\n",
       "<table border=\"1\" class=\"dataframe\">\n",
       "  <thead>\n",
       "    <tr style=\"text-align: right;\">\n",
       "      <th></th>\n",
       "      <th>Payment_Method</th>\n",
       "      <th>Payment_Terms</th>\n",
       "    </tr>\n",
       "  </thead>\n",
       "  <tbody>\n",
       "    <tr>\n",
       "      <th>1</th>\n",
       "      <td>Mastercard</td>\n",
       "      <td>End of month</td>\n",
       "    </tr>\n",
       "    <tr>\n",
       "      <th>2</th>\n",
       "      <td>iDeal</td>\n",
       "      <td>Debit</td>\n",
       "    </tr>\n",
       "    <tr>\n",
       "      <th>3</th>\n",
       "      <td>Visa</td>\n",
       "      <td>End of month</td>\n",
       "    </tr>\n",
       "    <tr>\n",
       "      <th>4</th>\n",
       "      <td>PayPal</td>\n",
       "      <td>Debit</td>\n",
       "    </tr>\n",
       "    <tr>\n",
       "      <th>5</th>\n",
       "      <td>Klarna</td>\n",
       "      <td>Net 15</td>\n",
       "    </tr>\n",
       "  </tbody>\n",
       "</table>\n",
       "</div>"
      ],
      "text/plain": [
       "  Payment_Method Payment_Terms\n",
       "1     Mastercard  End of month\n",
       "2          iDeal         Debit\n",
       "3           Visa  End of month\n",
       "4         PayPal         Debit\n",
       "5         Klarna        Net 15"
      ]
     },
     "execution_count": 76,
     "metadata": {},
     "output_type": "execute_result"
    }
   ],
   "source": [
    "#Create list of conditions\n",
    "conditions = [\n",
    "    (paymentdf['Payment_Method'] == 'Mastercard'),\n",
    "    (paymentdf['Payment_Method'] == 'iDeal'),\n",
    "    (paymentdf['Payment_Method'] == 'Visa'),\n",
    "    (paymentdf['Payment_Method'] == 'PayPal'),\n",
    "    (paymentdf['Payment_Method'] == 'Klarna')\n",
    "    ]\n",
    "\n",
    "#Create list of values that will be assigned to the conditions\n",
    "values = ['End of month', 'Debit', 'End of month', 'Debit', 'Net 15']\n",
    "\n",
    "#Create new column with values\n",
    "paymentdf['Payment_Terms'] = np.select(conditions, values)\n",
    "\n",
    "paymentdf.head(10)"
   ]
  },
  {
   "cell_type": "markdown",
   "id": "30141a17",
   "metadata": {},
   "source": [
    "## Store Table"
   ]
  },
  {
   "cell_type": "code",
   "execution_count": 71,
   "id": "d1a8bd12",
   "metadata": {},
   "outputs": [
    {
     "name": "stdout",
     "output_type": "stream",
     "text": [
      "[['Webshop', 'http://www.sneaker-factory.com]'], ['London', 'Carnaby Street'], ['Webshop', 'http://www.sneaker-factory.com]'], ['Webshop', 'http://www.sneaker-factory.com]'], ['Webshop', 'http://www.sneaker-factory.com]'], ['Amsterdam', 'Oudezijds Voorburgwal'], ['Amsterdam', 'Oudezijds Voorburgwal'], ['Webshop', 'http://www.sneaker-factory.com]'], ['London', 'Carnaby Street'], ['Webshop', 'http://www.sneaker-factory.com]']]\n"
     ]
    }
   ],
   "source": [
    "stores = [['Amsterdam','Oudezijds Voorburgwal'],\n",
    "['Stockholm','Drottninggatan'],\n",
    "['London','Carnaby Street'],\n",
    "['Warsaw','Nowy Świat'],\n",
    "['Rome','Via del Corso'],\n",
    "['Madrid','Calle Preciados'],\n",
    "['Webshop','http://www.sneaker-factory.com]']\n",
    "         ]\n",
    "\n",
    "\n",
    "#Generate random store data, k = the number of orders\n",
    "storedata = random.choices(stores, weights=(18, 8, 16, 5, 11, 7, 35), k=10)\n",
    "\n",
    "print(storedata)"
   ]
  },
  {
   "cell_type": "code",
   "execution_count": 72,
   "id": "62f8ad1f",
   "metadata": {},
   "outputs": [
    {
     "data": {
      "text/html": [
       "<div>\n",
       "<style scoped>\n",
       "    .dataframe tbody tr th:only-of-type {\n",
       "        vertical-align: middle;\n",
       "    }\n",
       "\n",
       "    .dataframe tbody tr th {\n",
       "        vertical-align: top;\n",
       "    }\n",
       "\n",
       "    .dataframe thead th {\n",
       "        text-align: right;\n",
       "    }\n",
       "</style>\n",
       "<table border=\"1\" class=\"dataframe\">\n",
       "  <thead>\n",
       "    <tr style=\"text-align: right;\">\n",
       "      <th></th>\n",
       "      <th>Store_Location</th>\n",
       "      <th>Address</th>\n",
       "    </tr>\n",
       "  </thead>\n",
       "  <tbody>\n",
       "    <tr>\n",
       "      <th>0</th>\n",
       "      <td>Amsterdam</td>\n",
       "      <td>Oudezijds Voorburgwal</td>\n",
       "    </tr>\n",
       "    <tr>\n",
       "      <th>1</th>\n",
       "      <td>Stockholm</td>\n",
       "      <td>Drottninggatan</td>\n",
       "    </tr>\n",
       "    <tr>\n",
       "      <th>2</th>\n",
       "      <td>London</td>\n",
       "      <td>Carnaby Street</td>\n",
       "    </tr>\n",
       "    <tr>\n",
       "      <th>3</th>\n",
       "      <td>Warsaw</td>\n",
       "      <td>Nowy Świat</td>\n",
       "    </tr>\n",
       "    <tr>\n",
       "      <th>4</th>\n",
       "      <td>Rome</td>\n",
       "      <td>Via del Corso</td>\n",
       "    </tr>\n",
       "    <tr>\n",
       "      <th>5</th>\n",
       "      <td>Madrid</td>\n",
       "      <td>Calle Preciados</td>\n",
       "    </tr>\n",
       "    <tr>\n",
       "      <th>6</th>\n",
       "      <td>Webshop</td>\n",
       "      <td>http://www.sneaker-factory.com]</td>\n",
       "    </tr>\n",
       "  </tbody>\n",
       "</table>\n",
       "</div>"
      ],
      "text/plain": [
       "  Store_Location                          Address\n",
       "0      Amsterdam            Oudezijds Voorburgwal\n",
       "1      Stockholm                   Drottninggatan\n",
       "2         London                   Carnaby Street\n",
       "3         Warsaw                       Nowy Świat\n",
       "4           Rome                    Via del Corso\n",
       "5         Madrid                  Calle Preciados\n",
       "6        Webshop  http://www.sneaker-factory.com]"
      ]
     },
     "execution_count": 72,
     "metadata": {},
     "output_type": "execute_result"
    }
   ],
   "source": [
    "storedf = pd.DataFrame (stores, columns = ['Store_Location', 'Address'])\n",
    "\n",
    "storedf.head(10)"
   ]
  },
  {
   "cell_type": "code",
   "execution_count": 74,
   "id": "42d47d22",
   "metadata": {},
   "outputs": [
    {
     "data": {
      "text/html": [
       "<div>\n",
       "<style scoped>\n",
       "    .dataframe tbody tr th:only-of-type {\n",
       "        vertical-align: middle;\n",
       "    }\n",
       "\n",
       "    .dataframe tbody tr th {\n",
       "        vertical-align: top;\n",
       "    }\n",
       "\n",
       "    .dataframe thead th {\n",
       "        text-align: right;\n",
       "    }\n",
       "</style>\n",
       "<table border=\"1\" class=\"dataframe\">\n",
       "  <thead>\n",
       "    <tr style=\"text-align: right;\">\n",
       "      <th></th>\n",
       "      <th>Store_Location</th>\n",
       "      <th>Address</th>\n",
       "    </tr>\n",
       "  </thead>\n",
       "  <tbody>\n",
       "    <tr>\n",
       "      <th>1</th>\n",
       "      <td>Amsterdam</td>\n",
       "      <td>Oudezijds Voorburgwal</td>\n",
       "    </tr>\n",
       "    <tr>\n",
       "      <th>2</th>\n",
       "      <td>Stockholm</td>\n",
       "      <td>Drottninggatan</td>\n",
       "    </tr>\n",
       "    <tr>\n",
       "      <th>3</th>\n",
       "      <td>London</td>\n",
       "      <td>Carnaby Street</td>\n",
       "    </tr>\n",
       "    <tr>\n",
       "      <th>4</th>\n",
       "      <td>Warsaw</td>\n",
       "      <td>Nowy Świat</td>\n",
       "    </tr>\n",
       "    <tr>\n",
       "      <th>5</th>\n",
       "      <td>Rome</td>\n",
       "      <td>Via del Corso</td>\n",
       "    </tr>\n",
       "    <tr>\n",
       "      <th>6</th>\n",
       "      <td>Madrid</td>\n",
       "      <td>Calle Preciados</td>\n",
       "    </tr>\n",
       "    <tr>\n",
       "      <th>7</th>\n",
       "      <td>Webshop</td>\n",
       "      <td>http://www.sneaker-factory.com]</td>\n",
       "    </tr>\n",
       "  </tbody>\n",
       "</table>\n",
       "</div>"
      ],
      "text/plain": [
       "  Store_Location                          Address\n",
       "1      Amsterdam            Oudezijds Voorburgwal\n",
       "2      Stockholm                   Drottninggatan\n",
       "3         London                   Carnaby Street\n",
       "4         Warsaw                       Nowy Świat\n",
       "5           Rome                    Via del Corso\n",
       "6         Madrid                  Calle Preciados\n",
       "7        Webshop  http://www.sneaker-factory.com]"
      ]
     },
     "execution_count": 74,
     "metadata": {},
     "output_type": "execute_result"
    }
   ],
   "source": [
    "#storedf.index += 1\n",
    "storedf.index\n",
    "storedf.head(10)"
   ]
  },
  {
   "cell_type": "markdown",
   "id": "234f2483",
   "metadata": {},
   "source": [
    "## Discount Table"
   ]
  },
  {
   "cell_type": "code",
   "execution_count": 80,
   "id": "01b0fd70",
   "metadata": {},
   "outputs": [
    {
     "name": "stdout",
     "output_type": "stream",
     "text": [
      "['15 Nov', '14 Dec', '22 Apr', '18 Nov', '14 Jul', '18 Nov', '11 Feb', '24 Sep', '17 Jun', '09 Dec', '24 Apr', '16 Mar', '20 Apr', '20 Aug', '31 May', '28 Dec', '31 Jan', '23 Feb', '22 Feb', '18 Sep']\n"
     ]
    }
   ],
   "source": [
    "import datetime\n",
    "\n",
    "faker = Faker()\n",
    "discountlist = [] \n",
    "for _ in range(20):\n",
    "    discountlist.append((faker.date_between(start_date='-18y', end_date='now')).strftime(\"%d %b\"))\n",
    "    \n",
    "print(discountlist)"
   ]
  },
  {
   "cell_type": "code",
   "execution_count": 81,
   "id": "0d30a2e6",
   "metadata": {},
   "outputs": [
    {
     "name": "stdout",
     "output_type": "stream",
     "text": [
      "No discount\n",
      "Christmas discount\n",
      "Earth day\n",
      "No discount\n",
      "No discount\n",
      "No discount\n",
      "No discount\n",
      "No discount\n",
      "No discount\n",
      "Christmas discount\n",
      "No discount\n",
      "No discount\n",
      "No discount\n",
      "No discount\n",
      "No discount\n",
      "Christmas discount\n",
      "No discount\n",
      "No discount\n",
      "No discount\n",
      "No discount\n"
     ]
    }
   ],
   "source": [
    "for i in discountlist:\n",
    "    if int(i[:2]) <= 7 and str(i[-3:]) == \"Jan\":\n",
    "        print(\"New Year discount\")\n",
    "    elif i[-3:] == \"Dec\":\n",
    "        print(\"Christmas discount\")\n",
    "    elif (int(i[:2]) >= 21 and str(i[-3:]) == \"Mar\") or (int(i[:2]) <= 3 and str(i[-3:]) == \"Apr\"):\n",
    "        print(\"Spring deal\")\n",
    "    elif int(i[:2]) == 22 and str(i[-3:]) == \"Apr\":\n",
    "        print(\"Earth day\")\n",
    "    else:\n",
    "        print(\"No discount\")"
   ]
  },
  {
   "cell_type": "markdown",
   "id": "99d5201b",
   "metadata": {},
   "source": [
    "## Product table"
   ]
  },
  {
   "cell_type": "code",
   "execution_count": 85,
   "id": "bc1477ec",
   "metadata": {},
   "outputs": [],
   "source": [
    "import itertools\n",
    "import pandas as pd\n",
    "\n",
    "size = []\n",
    "for i in range(36,49):\n",
    "    size.append(i)\n",
    "\n",
    "    color = ['Crimson', 'Navy', 'Olive', 'Baby Blue',\n",
    "         'Cyan', 'Coral', 'Azure', 'Denim', 'Peach'\n",
    "        ]\n",
    "\n",
    "#A nested list with all product specifications is used to find all the possible permutations \n",
    "productcategories = [['SWEATZY_MEN','SWEATZY_WOMEN',\n",
    "               'WOVE_MEN','WOVE_WOMEN',\n",
    "               'BOOTWEAR_MEN','BOOTWEAR_WOMEN',\n",
    "               'FROVE_MEN','FROVE_WOMEN',\n",
    "               'SWOONIX_MEN','SWOONIX_WOMEN'\n",
    "              ],\n",
    "               ['Crimson', 'Navy', 'Olive', 'Baby Blue',\n",
    "                'Cyan', 'Coral', 'Azure', 'Denim', 'Peach'],\n",
    "               size\n",
    "              ]"
   ]
  },
  {
   "cell_type": "markdown",
   "id": "9a204c75",
   "metadata": {},
   "source": [
    "### Listing all permutations for products "
   ]
  },
  {
   "cell_type": "code",
   "execution_count": 86,
   "id": "3e06322d",
   "metadata": {},
   "outputs": [
    {
     "data": {
      "text/html": [
       "<div>\n",
       "<style scoped>\n",
       "    .dataframe tbody tr th:only-of-type {\n",
       "        vertical-align: middle;\n",
       "    }\n",
       "\n",
       "    .dataframe tbody tr th {\n",
       "        vertical-align: top;\n",
       "    }\n",
       "\n",
       "    .dataframe thead th {\n",
       "        text-align: right;\n",
       "    }\n",
       "</style>\n",
       "<table border=\"1\" class=\"dataframe\">\n",
       "  <thead>\n",
       "    <tr style=\"text-align: right;\">\n",
       "      <th></th>\n",
       "      <th>Product_Name</th>\n",
       "      <th>Product_Color</th>\n",
       "      <th>Product_Size</th>\n",
       "    </tr>\n",
       "  </thead>\n",
       "  <tbody>\n",
       "    <tr>\n",
       "      <th>0</th>\n",
       "      <td>SWEATZY_MEN</td>\n",
       "      <td>Crimson</td>\n",
       "      <td>36</td>\n",
       "    </tr>\n",
       "    <tr>\n",
       "      <th>1</th>\n",
       "      <td>SWEATZY_MEN</td>\n",
       "      <td>Crimson</td>\n",
       "      <td>37</td>\n",
       "    </tr>\n",
       "    <tr>\n",
       "      <th>2</th>\n",
       "      <td>SWEATZY_MEN</td>\n",
       "      <td>Crimson</td>\n",
       "      <td>38</td>\n",
       "    </tr>\n",
       "    <tr>\n",
       "      <th>3</th>\n",
       "      <td>SWEATZY_MEN</td>\n",
       "      <td>Crimson</td>\n",
       "      <td>39</td>\n",
       "    </tr>\n",
       "    <tr>\n",
       "      <th>4</th>\n",
       "      <td>SWEATZY_MEN</td>\n",
       "      <td>Crimson</td>\n",
       "      <td>40</td>\n",
       "    </tr>\n",
       "  </tbody>\n",
       "</table>\n",
       "</div>"
      ],
      "text/plain": [
       "  Product_Name Product_Color  Product_Size\n",
       "0  SWEATZY_MEN       Crimson            36\n",
       "1  SWEATZY_MEN       Crimson            37\n",
       "2  SWEATZY_MEN       Crimson            38\n",
       "3  SWEATZY_MEN       Crimson            39\n",
       "4  SWEATZY_MEN       Crimson            40"
      ]
     },
     "execution_count": 86,
     "metadata": {},
     "output_type": "execute_result"
    }
   ],
   "source": [
    "products = list(itertools.product(*productcategories))\n",
    "\n",
    "productsdf = pd.DataFrame (products, columns = ['Product_Name', 'Product_Color', 'Product_Size'])\n",
    "productsdf.head(5)\n"
   ]
  },
  {
   "cell_type": "code",
   "execution_count": 87,
   "id": "df074780",
   "metadata": {},
   "outputs": [
    {
     "name": "stdout",
     "output_type": "stream",
     "text": [
      "[['SWEATZY_KIDS', 'WOVE_KIDS', 'BOOTWEAR_KIDS', 'FROVE_KIDS', 'SWOONIX_KIDS'], ['Crimson', 'Navy', 'Olive', 'Baby Blue', 'Cyan', 'Coral', 'Azure', 'Denim', 'Peach'], [20, 21, 22, 23, 24, 25, 26, 27, 28, 29, 30, 31, 32, 33, 34, 35, 36]]\n"
     ]
    }
   ],
   "source": [
    "kidssize = []\n",
    "for i in range(20, 37):\n",
    "    kidssize.append(i)\n",
    "\n",
    "kidscategories = [['SWEATZY_KIDS', 'WOVE_KIDS', 'BOOTWEAR_KIDS', 'FROVE_KIDS', 'SWOONIX_KIDS'],\n",
    "                ['Crimson', 'Navy', 'Olive', 'Baby Blue',\n",
    "                 'Cyan', 'Coral', 'Azure', 'Denim', 'Peach'],\n",
    "                kidssize\n",
    "               ]\n",
    "print(kidscategories)\n"
   ]
  },
  {
   "cell_type": "markdown",
   "id": "4f8b0487",
   "metadata": {},
   "source": [
    "### Listing all permutations for the kids products"
   ]
  },
  {
   "cell_type": "code",
   "execution_count": 88,
   "id": "c5c0e72c",
   "metadata": {},
   "outputs": [],
   "source": [
    "import itertools\n",
    "kidsproducts = list(itertools.product(*kidscategories))\n"
   ]
  },
  {
   "cell_type": "code",
   "execution_count": 89,
   "id": "00de6e1d",
   "metadata": {},
   "outputs": [
    {
     "data": {
      "text/plain": [
       "(765, 3)"
      ]
     },
     "execution_count": 89,
     "metadata": {},
     "output_type": "execute_result"
    }
   ],
   "source": [
    "\n",
    "kidsproductsdf = pd.DataFrame (kidsproducts, columns = ['Product_Name', 'Product_Color', 'Product_Size'])\n",
    "kidsproductsdf.head(5)\n",
    "kidsproductsdf.shape"
   ]
  },
  {
   "cell_type": "markdown",
   "id": "d284c413",
   "metadata": {},
   "source": [
    "### Appending kids dataframe to other dataframe to create one products dataframe"
   ]
  },
  {
   "cell_type": "code",
   "execution_count": 90,
   "id": "bce6f2f0",
   "metadata": {},
   "outputs": [
    {
     "data": {
      "text/html": [
       "<div>\n",
       "<style scoped>\n",
       "    .dataframe tbody tr th:only-of-type {\n",
       "        vertical-align: middle;\n",
       "    }\n",
       "\n",
       "    .dataframe tbody tr th {\n",
       "        vertical-align: top;\n",
       "    }\n",
       "\n",
       "    .dataframe thead th {\n",
       "        text-align: right;\n",
       "    }\n",
       "</style>\n",
       "<table border=\"1\" class=\"dataframe\">\n",
       "  <thead>\n",
       "    <tr style=\"text-align: right;\">\n",
       "      <th></th>\n",
       "      <th>Product_Name</th>\n",
       "      <th>Product_Color</th>\n",
       "      <th>Product_Size</th>\n",
       "    </tr>\n",
       "  </thead>\n",
       "  <tbody>\n",
       "    <tr>\n",
       "      <th>0</th>\n",
       "      <td>SWEATZY_MEN</td>\n",
       "      <td>Crimson</td>\n",
       "      <td>36</td>\n",
       "    </tr>\n",
       "    <tr>\n",
       "      <th>1</th>\n",
       "      <td>SWEATZY_MEN</td>\n",
       "      <td>Crimson</td>\n",
       "      <td>37</td>\n",
       "    </tr>\n",
       "    <tr>\n",
       "      <th>2</th>\n",
       "      <td>SWEATZY_MEN</td>\n",
       "      <td>Crimson</td>\n",
       "      <td>38</td>\n",
       "    </tr>\n",
       "    <tr>\n",
       "      <th>3</th>\n",
       "      <td>SWEATZY_MEN</td>\n",
       "      <td>Crimson</td>\n",
       "      <td>39</td>\n",
       "    </tr>\n",
       "    <tr>\n",
       "      <th>4</th>\n",
       "      <td>SWEATZY_MEN</td>\n",
       "      <td>Crimson</td>\n",
       "      <td>40</td>\n",
       "    </tr>\n",
       "    <tr>\n",
       "      <th>...</th>\n",
       "      <td>...</td>\n",
       "      <td>...</td>\n",
       "      <td>...</td>\n",
       "    </tr>\n",
       "    <tr>\n",
       "      <th>525</th>\n",
       "      <td>FROVE_KIDS</td>\n",
       "      <td>Baby Blue</td>\n",
       "      <td>35</td>\n",
       "    </tr>\n",
       "    <tr>\n",
       "      <th>526</th>\n",
       "      <td>FROVE_KIDS</td>\n",
       "      <td>Baby Blue</td>\n",
       "      <td>36</td>\n",
       "    </tr>\n",
       "    <tr>\n",
       "      <th>527</th>\n",
       "      <td>FROVE_KIDS</td>\n",
       "      <td>Cyan</td>\n",
       "      <td>20</td>\n",
       "    </tr>\n",
       "    <tr>\n",
       "      <th>528</th>\n",
       "      <td>FROVE_KIDS</td>\n",
       "      <td>Cyan</td>\n",
       "      <td>21</td>\n",
       "    </tr>\n",
       "    <tr>\n",
       "      <th>529</th>\n",
       "      <td>FROVE_KIDS</td>\n",
       "      <td>Cyan</td>\n",
       "      <td>22</td>\n",
       "    </tr>\n",
       "  </tbody>\n",
       "</table>\n",
       "<p>1700 rows × 3 columns</p>\n",
       "</div>"
      ],
      "text/plain": [
       "    Product_Name Product_Color  Product_Size\n",
       "0    SWEATZY_MEN       Crimson            36\n",
       "1    SWEATZY_MEN       Crimson            37\n",
       "2    SWEATZY_MEN       Crimson            38\n",
       "3    SWEATZY_MEN       Crimson            39\n",
       "4    SWEATZY_MEN       Crimson            40\n",
       "..           ...           ...           ...\n",
       "525   FROVE_KIDS     Baby Blue            35\n",
       "526   FROVE_KIDS     Baby Blue            36\n",
       "527   FROVE_KIDS          Cyan            20\n",
       "528   FROVE_KIDS          Cyan            21\n",
       "529   FROVE_KIDS          Cyan            22\n",
       "\n",
       "[1700 rows x 3 columns]"
      ]
     },
     "execution_count": 90,
     "metadata": {},
     "output_type": "execute_result"
    }
   ],
   "source": [
    "productsdf = productsdf.append(kidsproductsdf)\n",
    "productsdf.shape\n",
    "productsdf.head(1700)"
   ]
  },
  {
   "cell_type": "markdown",
   "id": "242091fb",
   "metadata": {},
   "source": [
    "### Conditions for product price of different shoes"
   ]
  },
  {
   "cell_type": "code",
   "execution_count": 93,
   "id": "686a5fd4",
   "metadata": {},
   "outputs": [],
   "source": [
    "def productprice (row):\n",
    "    if row['Product_Name'] == 'SWEATZY_KIDS' :\n",
    "        return 39.95\n",
    "    if row['Product_Name'] == 'SWEATZY_MEN' or row['Product_Name'] == 'SWEATZY_WOMEN':\n",
    "        return 49.95\n",
    "    if row['Product_Name'] == 'WOVE_KIDS' :\n",
    "        return 49.95\n",
    "    if row['Product_Name'] == 'WOVE_MEN' or row['Product_Name'] == 'WOVE_WOMEN' :\n",
    "        return 59.95\n",
    "    if row['Product_Name'] == 'BOOTWEAR_KIDS' :\n",
    "        return 64.95\n",
    "    if row['Product_Name'] == 'BOOTWEAR_MEN' or row['Product_Name'] == 'BOOTWEAR_WOMEN' :\n",
    "        return 74.95\n",
    "    if row['Product_Name'] == 'FROVE_KIDS' :\n",
    "        return 49.95\n",
    "    if row['Product_Name'] == 'FROVE_MEN' or row['Product_Name'] == 'FROVE_WOMEN' :\n",
    "        return 59.95\n",
    "    if row['Product_Name'] == 'SWOONIX_KIDS' :\n",
    "        return 54.95\n",
    "    if row['Product_Name'] == 'SWOONIX_MEN' or row['Product_Name'] == 'SWOONIX_WOMEN' :\n",
    "        return 64.95\n"
   ]
  },
  {
   "cell_type": "code",
   "execution_count": 94,
   "id": "861483ff",
   "metadata": {},
   "outputs": [
    {
     "data": {
      "text/plain": [
       "0      49.95\n",
       "1      49.95\n",
       "2      49.95\n",
       "3      49.95\n",
       "4      49.95\n",
       "       ...  \n",
       "760    54.95\n",
       "761    54.95\n",
       "762    54.95\n",
       "763    54.95\n",
       "764    54.95\n",
       "Length: 1935, dtype: float64"
      ]
     },
     "execution_count": 94,
     "metadata": {},
     "output_type": "execute_result"
    }
   ],
   "source": [
    "productsdf.apply (lambda row: productprice(row), axis=1)"
   ]
  },
  {
   "cell_type": "code",
   "execution_count": 95,
   "id": "bf8037a1",
   "metadata": {},
   "outputs": [
    {
     "data": {
      "text/html": [
       "<div>\n",
       "<style scoped>\n",
       "    .dataframe tbody tr th:only-of-type {\n",
       "        vertical-align: middle;\n",
       "    }\n",
       "\n",
       "    .dataframe tbody tr th {\n",
       "        vertical-align: top;\n",
       "    }\n",
       "\n",
       "    .dataframe thead th {\n",
       "        text-align: right;\n",
       "    }\n",
       "</style>\n",
       "<table border=\"1\" class=\"dataframe\">\n",
       "  <thead>\n",
       "    <tr style=\"text-align: right;\">\n",
       "      <th></th>\n",
       "      <th>Product_Name</th>\n",
       "      <th>Product_Color</th>\n",
       "      <th>Product_Size</th>\n",
       "      <th>Product_Price</th>\n",
       "    </tr>\n",
       "  </thead>\n",
       "  <tbody>\n",
       "    <tr>\n",
       "      <th>0</th>\n",
       "      <td>SWEATZY_MEN</td>\n",
       "      <td>Crimson</td>\n",
       "      <td>36</td>\n",
       "      <td>49.95</td>\n",
       "    </tr>\n",
       "    <tr>\n",
       "      <th>1</th>\n",
       "      <td>SWEATZY_MEN</td>\n",
       "      <td>Crimson</td>\n",
       "      <td>37</td>\n",
       "      <td>49.95</td>\n",
       "    </tr>\n",
       "    <tr>\n",
       "      <th>2</th>\n",
       "      <td>SWEATZY_MEN</td>\n",
       "      <td>Crimson</td>\n",
       "      <td>38</td>\n",
       "      <td>49.95</td>\n",
       "    </tr>\n",
       "    <tr>\n",
       "      <th>3</th>\n",
       "      <td>SWEATZY_MEN</td>\n",
       "      <td>Crimson</td>\n",
       "      <td>39</td>\n",
       "      <td>49.95</td>\n",
       "    </tr>\n",
       "    <tr>\n",
       "      <th>4</th>\n",
       "      <td>SWEATZY_MEN</td>\n",
       "      <td>Crimson</td>\n",
       "      <td>40</td>\n",
       "      <td>49.95</td>\n",
       "    </tr>\n",
       "    <tr>\n",
       "      <th>...</th>\n",
       "      <td>...</td>\n",
       "      <td>...</td>\n",
       "      <td>...</td>\n",
       "      <td>...</td>\n",
       "    </tr>\n",
       "    <tr>\n",
       "      <th>525</th>\n",
       "      <td>FROVE_KIDS</td>\n",
       "      <td>Baby Blue</td>\n",
       "      <td>35</td>\n",
       "      <td>49.95</td>\n",
       "    </tr>\n",
       "    <tr>\n",
       "      <th>526</th>\n",
       "      <td>FROVE_KIDS</td>\n",
       "      <td>Baby Blue</td>\n",
       "      <td>36</td>\n",
       "      <td>49.95</td>\n",
       "    </tr>\n",
       "    <tr>\n",
       "      <th>527</th>\n",
       "      <td>FROVE_KIDS</td>\n",
       "      <td>Cyan</td>\n",
       "      <td>20</td>\n",
       "      <td>49.95</td>\n",
       "    </tr>\n",
       "    <tr>\n",
       "      <th>528</th>\n",
       "      <td>FROVE_KIDS</td>\n",
       "      <td>Cyan</td>\n",
       "      <td>21</td>\n",
       "      <td>49.95</td>\n",
       "    </tr>\n",
       "    <tr>\n",
       "      <th>529</th>\n",
       "      <td>FROVE_KIDS</td>\n",
       "      <td>Cyan</td>\n",
       "      <td>22</td>\n",
       "      <td>49.95</td>\n",
       "    </tr>\n",
       "  </tbody>\n",
       "</table>\n",
       "<p>1700 rows × 4 columns</p>\n",
       "</div>"
      ],
      "text/plain": [
       "    Product_Name Product_Color  Product_Size  Product_Price\n",
       "0    SWEATZY_MEN       Crimson            36          49.95\n",
       "1    SWEATZY_MEN       Crimson            37          49.95\n",
       "2    SWEATZY_MEN       Crimson            38          49.95\n",
       "3    SWEATZY_MEN       Crimson            39          49.95\n",
       "4    SWEATZY_MEN       Crimson            40          49.95\n",
       "..           ...           ...           ...            ...\n",
       "525   FROVE_KIDS     Baby Blue            35          49.95\n",
       "526   FROVE_KIDS     Baby Blue            36          49.95\n",
       "527   FROVE_KIDS          Cyan            20          49.95\n",
       "528   FROVE_KIDS          Cyan            21          49.95\n",
       "529   FROVE_KIDS          Cyan            22          49.95\n",
       "\n",
       "[1700 rows x 4 columns]"
      ]
     },
     "execution_count": 95,
     "metadata": {},
     "output_type": "execute_result"
    }
   ],
   "source": [
    "productsdf['Product_Price'] = productsdf.apply (lambda row: productprice(row), axis=1)\n",
    "productsdf.head(1700)"
   ]
  },
  {
   "cell_type": "markdown",
   "id": "031821f5",
   "metadata": {},
   "source": [
    "### Changing index start to 1 instead of 0"
   ]
  },
  {
   "cell_type": "code",
   "execution_count": 97,
   "id": "2f8f2694",
   "metadata": {},
   "outputs": [
    {
     "data": {
      "text/html": [
       "<div>\n",
       "<style scoped>\n",
       "    .dataframe tbody tr th:only-of-type {\n",
       "        vertical-align: middle;\n",
       "    }\n",
       "\n",
       "    .dataframe tbody tr th {\n",
       "        vertical-align: top;\n",
       "    }\n",
       "\n",
       "    .dataframe thead th {\n",
       "        text-align: right;\n",
       "    }\n",
       "</style>\n",
       "<table border=\"1\" class=\"dataframe\">\n",
       "  <thead>\n",
       "    <tr style=\"text-align: right;\">\n",
       "      <th></th>\n",
       "      <th>Product_Name</th>\n",
       "      <th>Product_Color</th>\n",
       "      <th>Product_Size</th>\n",
       "      <th>Product_Price</th>\n",
       "    </tr>\n",
       "  </thead>\n",
       "  <tbody>\n",
       "    <tr>\n",
       "      <th>1</th>\n",
       "      <td>SWEATZY_MEN</td>\n",
       "      <td>Crimson</td>\n",
       "      <td>36</td>\n",
       "      <td>49.95</td>\n",
       "    </tr>\n",
       "    <tr>\n",
       "      <th>2</th>\n",
       "      <td>SWEATZY_MEN</td>\n",
       "      <td>Crimson</td>\n",
       "      <td>37</td>\n",
       "      <td>49.95</td>\n",
       "    </tr>\n",
       "    <tr>\n",
       "      <th>3</th>\n",
       "      <td>SWEATZY_MEN</td>\n",
       "      <td>Crimson</td>\n",
       "      <td>38</td>\n",
       "      <td>49.95</td>\n",
       "    </tr>\n",
       "    <tr>\n",
       "      <th>4</th>\n",
       "      <td>SWEATZY_MEN</td>\n",
       "      <td>Crimson</td>\n",
       "      <td>39</td>\n",
       "      <td>49.95</td>\n",
       "    </tr>\n",
       "    <tr>\n",
       "      <th>5</th>\n",
       "      <td>SWEATZY_MEN</td>\n",
       "      <td>Crimson</td>\n",
       "      <td>40</td>\n",
       "      <td>49.95</td>\n",
       "    </tr>\n",
       "  </tbody>\n",
       "</table>\n",
       "</div>"
      ],
      "text/plain": [
       "  Product_Name Product_Color  Product_Size  Product_Price\n",
       "1  SWEATZY_MEN       Crimson            36          49.95\n",
       "2  SWEATZY_MEN       Crimson            37          49.95\n",
       "3  SWEATZY_MEN       Crimson            38          49.95\n",
       "4  SWEATZY_MEN       Crimson            39          49.95\n",
       "5  SWEATZY_MEN       Crimson            40          49.95"
      ]
     },
     "execution_count": 97,
     "metadata": {},
     "output_type": "execute_result"
    }
   ],
   "source": [
    "\n",
    "#productsdf.index += 1\n",
    "productsdf.head()"
   ]
  },
  {
   "cell_type": "code",
   "execution_count": 98,
   "id": "58ea2fdc",
   "metadata": {},
   "outputs": [],
   "source": [
    "productsdf.to_csv('Products.csv')"
   ]
  }
 ],
 "metadata": {
  "kernelspec": {
   "display_name": "Python 3",
   "language": "python",
   "name": "python3"
  },
  "language_info": {
   "codemirror_mode": {
    "name": "ipython",
    "version": 3
   },
   "file_extension": ".py",
   "mimetype": "text/x-python",
   "name": "python",
   "nbconvert_exporter": "python",
   "pygments_lexer": "ipython3",
   "version": "3.8.8"
  }
 },
 "nbformat": 4,
 "nbformat_minor": 5
}
