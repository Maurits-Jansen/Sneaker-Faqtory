{
 "cells": [
  {
   "cell_type": "markdown",
   "id": "6f378860",
   "metadata": {},
   "source": [
    "# Sneaker Faqtory Tables"
   ]
  },
  {
   "cell_type": "markdown",
   "id": "5a450c81",
   "metadata": {},
   "source": [
    "This document contains the code used to generate the payment, store, discount, and product tables of the Sneaker Faqtory dataset."
   ]
  },
  {
   "cell_type": "markdown",
   "id": "2958606e",
   "metadata": {},
   "source": [
    "## Payment Table"
   ]
  },
  {
   "cell_type": "code",
   "execution_count": 1,
   "id": "bd1bf7ac",
   "metadata": {},
   "outputs": [],
   "source": [
    "import random\n",
    "import numpy as np\n",
    "\n",
    "paymentmethods = [\"Mastercard\", \"iDeal\", \"Visa\", \"PayPal\", \"Klarna\"]\n",
    "\n",
    "#Generate random payment method data. k = the number of orders\n",
    "#paymentdata = random.choices(paymentmethods, weights=(40, 10, 8, 24, 18), k=10)\n",
    "\n",
    "#print(paymentdata)"
   ]
  },
  {
   "cell_type": "markdown",
   "id": "c5f96ffe",
   "metadata": {},
   "source": [
    "### Transforming to dataframe in Pandas"
   ]
  },
  {
   "cell_type": "code",
   "execution_count": 2,
   "id": "81067b94",
   "metadata": {},
   "outputs": [
    {
     "data": {
      "text/html": [
       "<div>\n",
       "<style scoped>\n",
       "    .dataframe tbody tr th:only-of-type {\n",
       "        vertical-align: middle;\n",
       "    }\n",
       "\n",
       "    .dataframe tbody tr th {\n",
       "        vertical-align: top;\n",
       "    }\n",
       "\n",
       "    .dataframe thead th {\n",
       "        text-align: right;\n",
       "    }\n",
       "</style>\n",
       "<table border=\"1\" class=\"dataframe\">\n",
       "  <thead>\n",
       "    <tr style=\"text-align: right;\">\n",
       "      <th></th>\n",
       "      <th>Payment_Method</th>\n",
       "    </tr>\n",
       "  </thead>\n",
       "  <tbody>\n",
       "    <tr>\n",
       "      <th>0</th>\n",
       "      <td>Mastercard</td>\n",
       "    </tr>\n",
       "    <tr>\n",
       "      <th>1</th>\n",
       "      <td>iDeal</td>\n",
       "    </tr>\n",
       "    <tr>\n",
       "      <th>2</th>\n",
       "      <td>Visa</td>\n",
       "    </tr>\n",
       "    <tr>\n",
       "      <th>3</th>\n",
       "      <td>PayPal</td>\n",
       "    </tr>\n",
       "    <tr>\n",
       "      <th>4</th>\n",
       "      <td>Klarna</td>\n",
       "    </tr>\n",
       "  </tbody>\n",
       "</table>\n",
       "</div>"
      ],
      "text/plain": [
       "  Payment_Method\n",
       "0     Mastercard\n",
       "1          iDeal\n",
       "2           Visa\n",
       "3         PayPal\n",
       "4         Klarna"
      ]
     },
     "execution_count": 2,
     "metadata": {},
     "output_type": "execute_result"
    }
   ],
   "source": [
    "import pandas as pd\n",
    "paymentdf = pd.DataFrame (paymentmethods, columns = ['Payment_Method'])\n",
    "paymentdf.head()"
   ]
  },
  {
   "cell_type": "code",
   "execution_count": 3,
   "id": "5ba9baa1",
   "metadata": {},
   "outputs": [],
   "source": [
    "#paymentdf.index += 1"
   ]
  },
  {
   "cell_type": "markdown",
   "id": "7877f735",
   "metadata": {},
   "source": [
    "### Add new column with payment terms for every payment method"
   ]
  },
  {
   "cell_type": "code",
   "execution_count": 4,
   "id": "83abb03c",
   "metadata": {},
   "outputs": [
    {
     "data": {
      "text/html": [
       "<div>\n",
       "<style scoped>\n",
       "    .dataframe tbody tr th:only-of-type {\n",
       "        vertical-align: middle;\n",
       "    }\n",
       "\n",
       "    .dataframe tbody tr th {\n",
       "        vertical-align: top;\n",
       "    }\n",
       "\n",
       "    .dataframe thead th {\n",
       "        text-align: right;\n",
       "    }\n",
       "</style>\n",
       "<table border=\"1\" class=\"dataframe\">\n",
       "  <thead>\n",
       "    <tr style=\"text-align: right;\">\n",
       "      <th></th>\n",
       "      <th>Payment_Method</th>\n",
       "      <th>Payment_Terms</th>\n",
       "    </tr>\n",
       "  </thead>\n",
       "  <tbody>\n",
       "    <tr>\n",
       "      <th>0</th>\n",
       "      <td>Mastercard</td>\n",
       "      <td>End of month</td>\n",
       "    </tr>\n",
       "    <tr>\n",
       "      <th>1</th>\n",
       "      <td>iDeal</td>\n",
       "      <td>Debit</td>\n",
       "    </tr>\n",
       "    <tr>\n",
       "      <th>2</th>\n",
       "      <td>Visa</td>\n",
       "      <td>End of month</td>\n",
       "    </tr>\n",
       "    <tr>\n",
       "      <th>3</th>\n",
       "      <td>PayPal</td>\n",
       "      <td>Debit</td>\n",
       "    </tr>\n",
       "    <tr>\n",
       "      <th>4</th>\n",
       "      <td>Klarna</td>\n",
       "      <td>Net 14</td>\n",
       "    </tr>\n",
       "  </tbody>\n",
       "</table>\n",
       "</div>"
      ],
      "text/plain": [
       "  Payment_Method Payment_Terms\n",
       "0     Mastercard  End of month\n",
       "1          iDeal         Debit\n",
       "2           Visa  End of month\n",
       "3         PayPal         Debit\n",
       "4         Klarna        Net 14"
      ]
     },
     "execution_count": 4,
     "metadata": {},
     "output_type": "execute_result"
    }
   ],
   "source": [
    "#Create list of conditions\n",
    "conditions = [\n",
    "    (paymentdf['Payment_Method'] == 'Mastercard'),\n",
    "    (paymentdf['Payment_Method'] == 'iDeal'),\n",
    "    (paymentdf['Payment_Method'] == 'Visa'),\n",
    "    (paymentdf['Payment_Method'] == 'PayPal'),\n",
    "    (paymentdf['Payment_Method'] == 'Klarna')\n",
    "    ]\n",
    "\n",
    "#Create list of values that will be assigned to the conditions\n",
    "values = ['End of month', 'Debit', 'End of month', 'Debit', 'Net 14']\n",
    "\n",
    "#Create new column with values\n",
    "paymentdf['Payment_Terms'] = np.select(conditions, values)\n",
    "\n",
    "paymentdf.head(10)"
   ]
  },
  {
   "cell_type": "code",
   "execution_count": 5,
   "id": "46896a00",
   "metadata": {},
   "outputs": [],
   "source": [
    "paymentdf.to_csv('Payments.csv')"
   ]
  },
  {
   "cell_type": "markdown",
   "id": "30141a17",
   "metadata": {},
   "source": [
    "## Store Table"
   ]
  },
  {
   "cell_type": "code",
   "execution_count": 5,
   "id": "d1a8bd12",
   "metadata": {},
   "outputs": [],
   "source": [
    "stores = [['Amsterdam','Oudezijds Voorburgwal', 'Netherlands'],\n",
    "['Stockholm','Drottninggatan', 'Sweden'],\n",
    "['London','Carnaby Street', 'United Kingdom'],\n",
    "['Warsaw','Nowy Świat', 'Poland'],\n",
    "['Rome','Via del Corso', 'Italy'],\n",
    "['Madrid','Calle Preciados', 'Spain'],\n",
    "['Webshop','http://www.sneaker-factory.com']\n",
    "         ]\n",
    "\n",
    "\n",
    "#Generate random store data, k = the number of orders\n",
    "#storedata = random.choices(stores, weights=(18, 8, 16, 5, 11, 7, 35), k=10)\n",
    "\n",
    "#print(storedata)"
   ]
  },
  {
   "cell_type": "code",
   "execution_count": 6,
   "id": "62f8ad1f",
   "metadata": {},
   "outputs": [
    {
     "data": {
      "text/html": [
       "<div>\n",
       "<style scoped>\n",
       "    .dataframe tbody tr th:only-of-type {\n",
       "        vertical-align: middle;\n",
       "    }\n",
       "\n",
       "    .dataframe tbody tr th {\n",
       "        vertical-align: top;\n",
       "    }\n",
       "\n",
       "    .dataframe thead th {\n",
       "        text-align: right;\n",
       "    }\n",
       "</style>\n",
       "<table border=\"1\" class=\"dataframe\">\n",
       "  <thead>\n",
       "    <tr style=\"text-align: right;\">\n",
       "      <th></th>\n",
       "      <th>Store_Location</th>\n",
       "      <th>Address</th>\n",
       "      <th>Country</th>\n",
       "    </tr>\n",
       "  </thead>\n",
       "  <tbody>\n",
       "    <tr>\n",
       "      <th>0</th>\n",
       "      <td>Amsterdam</td>\n",
       "      <td>Oudezijds Voorburgwal</td>\n",
       "      <td>Netherlands</td>\n",
       "    </tr>\n",
       "    <tr>\n",
       "      <th>1</th>\n",
       "      <td>Stockholm</td>\n",
       "      <td>Drottninggatan</td>\n",
       "      <td>Sweden</td>\n",
       "    </tr>\n",
       "    <tr>\n",
       "      <th>2</th>\n",
       "      <td>London</td>\n",
       "      <td>Carnaby Street</td>\n",
       "      <td>United Kingdom</td>\n",
       "    </tr>\n",
       "    <tr>\n",
       "      <th>3</th>\n",
       "      <td>Warsaw</td>\n",
       "      <td>Nowy Świat</td>\n",
       "      <td>Poland</td>\n",
       "    </tr>\n",
       "    <tr>\n",
       "      <th>4</th>\n",
       "      <td>Rome</td>\n",
       "      <td>Via del Corso</td>\n",
       "      <td>Italy</td>\n",
       "    </tr>\n",
       "    <tr>\n",
       "      <th>5</th>\n",
       "      <td>Madrid</td>\n",
       "      <td>Calle Preciados</td>\n",
       "      <td>Spain</td>\n",
       "    </tr>\n",
       "    <tr>\n",
       "      <th>6</th>\n",
       "      <td>Webshop</td>\n",
       "      <td>http://www.sneaker-factory.com</td>\n",
       "      <td>None</td>\n",
       "    </tr>\n",
       "  </tbody>\n",
       "</table>\n",
       "</div>"
      ],
      "text/plain": [
       "  Store_Location                         Address         Country\n",
       "0      Amsterdam           Oudezijds Voorburgwal     Netherlands\n",
       "1      Stockholm                  Drottninggatan          Sweden\n",
       "2         London                  Carnaby Street  United Kingdom\n",
       "3         Warsaw                      Nowy Świat          Poland\n",
       "4           Rome                   Via del Corso           Italy\n",
       "5         Madrid                 Calle Preciados           Spain\n",
       "6        Webshop  http://www.sneaker-factory.com            None"
      ]
     },
     "execution_count": 6,
     "metadata": {},
     "output_type": "execute_result"
    }
   ],
   "source": [
    "storedf = pd.DataFrame (stores, columns = ['Store_Location', 'Address', 'Country'])\n",
    "\n",
    "storedf.head(10)"
   ]
  },
  {
   "cell_type": "code",
   "execution_count": 7,
   "id": "2e1e0698",
   "metadata": {},
   "outputs": [
    {
     "data": {
      "text/html": [
       "<div>\n",
       "<style scoped>\n",
       "    .dataframe tbody tr th:only-of-type {\n",
       "        vertical-align: middle;\n",
       "    }\n",
       "\n",
       "    .dataframe tbody tr th {\n",
       "        vertical-align: top;\n",
       "    }\n",
       "\n",
       "    .dataframe thead th {\n",
       "        text-align: right;\n",
       "    }\n",
       "</style>\n",
       "<table border=\"1\" class=\"dataframe\">\n",
       "  <thead>\n",
       "    <tr style=\"text-align: right;\">\n",
       "      <th></th>\n",
       "      <th>Store_Location</th>\n",
       "      <th>Address</th>\n",
       "      <th>Country</th>\n",
       "    </tr>\n",
       "  </thead>\n",
       "  <tbody>\n",
       "    <tr>\n",
       "      <th>0</th>\n",
       "      <td>Amsterdam</td>\n",
       "      <td>Oudezijds Voorburgwal</td>\n",
       "      <td>Netherlands</td>\n",
       "    </tr>\n",
       "    <tr>\n",
       "      <th>1</th>\n",
       "      <td>Stockholm</td>\n",
       "      <td>Drottninggatan</td>\n",
       "      <td>Sweden</td>\n",
       "    </tr>\n",
       "    <tr>\n",
       "      <th>2</th>\n",
       "      <td>London</td>\n",
       "      <td>Carnaby Street</td>\n",
       "      <td>United Kingdom</td>\n",
       "    </tr>\n",
       "    <tr>\n",
       "      <th>3</th>\n",
       "      <td>Warsaw</td>\n",
       "      <td>Nowy Świat</td>\n",
       "      <td>Poland</td>\n",
       "    </tr>\n",
       "    <tr>\n",
       "      <th>4</th>\n",
       "      <td>Rome</td>\n",
       "      <td>Via del Corso</td>\n",
       "      <td>Italy</td>\n",
       "    </tr>\n",
       "    <tr>\n",
       "      <th>5</th>\n",
       "      <td>Madrid</td>\n",
       "      <td>Calle Preciados</td>\n",
       "      <td>Spain</td>\n",
       "    </tr>\n",
       "    <tr>\n",
       "      <th>6</th>\n",
       "      <td>Webshop</td>\n",
       "      <td>http://www.sneaker-factory.com</td>\n",
       "      <td>None</td>\n",
       "    </tr>\n",
       "  </tbody>\n",
       "</table>\n",
       "</div>"
      ],
      "text/plain": [
       "  Store_Location                         Address         Country\n",
       "0      Amsterdam           Oudezijds Voorburgwal     Netherlands\n",
       "1      Stockholm                  Drottninggatan          Sweden\n",
       "2         London                  Carnaby Street  United Kingdom\n",
       "3         Warsaw                      Nowy Świat          Poland\n",
       "4           Rome                   Via del Corso           Italy\n",
       "5         Madrid                 Calle Preciados           Spain\n",
       "6        Webshop  http://www.sneaker-factory.com            None"
      ]
     },
     "execution_count": 7,
     "metadata": {},
     "output_type": "execute_result"
    }
   ],
   "source": [
    "#storedf.index += 1\n",
    "storedf.index\n",
    "storedf.head(10)"
   ]
  },
  {
   "cell_type": "code",
   "execution_count": 36,
   "id": "9f6e16a4",
   "metadata": {},
   "outputs": [],
   "source": [
    "storedf.to_csv('Stores.csv')"
   ]
  },
  {
   "cell_type": "markdown",
   "id": "234f2483",
   "metadata": {},
   "source": [
    "## Discount Table"
   ]
  },
  {
   "cell_type": "code",
   "execution_count": 8,
   "id": "01b0fd70",
   "metadata": {},
   "outputs": [],
   "source": [
    "# import datetime\n",
    "# from faker import Faker\n",
    "\n",
    "# #Generating random dates to test \n",
    "# faker = Faker()\n",
    "# discountlist = [] \n",
    "# for _ in range(20):\n",
    "#     discountlist.append((faker.date_between(start_date='-18y', end_date='now')).strftime(\"%d %b\"))\n",
    "    \n",
    "# print(discountlist)"
   ]
  },
  {
   "cell_type": "code",
   "execution_count": 9,
   "id": "0d30a2e6",
   "metadata": {},
   "outputs": [],
   "source": [
    "# for i in discountlist:\n",
    "#     if int(i[:2]) <= 7 and str(i[-3:]) == \"Jan\":\n",
    "#         print(\"New Year discount\")\n",
    "#     elif i[-3:] == \"Dec\":\n",
    "#         print(\"Christmas discount\")\n",
    "#     elif (int(i[:2]) >= 21 and str(i[-3:]) == \"Mar\") or (int(i[:2]) <= 3 and str(i[-3:]) == \"Apr\"):\n",
    "#         print(\"Spring deal\")\n",
    "#     elif int(i[:2]) == 22 and str(i[-3:]) == \"Apr\":\n",
    "#         print(\"Earth day\")\n",
    "#     else:\n",
    "#         print(\"No discount\")"
   ]
  },
  {
   "cell_type": "code",
   "execution_count": 10,
   "id": "8de4118a",
   "metadata": {},
   "outputs": [],
   "source": [
    "discount = [['Christmas', '20 Dec', '24 Dec', 15, 0],\n",
    "            ['New Year', '02 Jan', '05 Jan', 0, 20],\n",
    "            ['Earth Day', '22 Apr', '22 Apr', 10, 0],\n",
    "            ['Spring deal', '18 Mar', '22 Mar', 10, 0]\n",
    "           ]\n"
   ]
  },
  {
   "cell_type": "code",
   "execution_count": 17,
   "id": "5924b94c",
   "metadata": {},
   "outputs": [
    {
     "ename": "AttributeError",
     "evalue": "'list' object has no attribute 'values'",
     "output_type": "error",
     "traceback": [
      "\u001b[0;31m---------------------------------------------------------------------------\u001b[0m",
      "\u001b[0;31mAttributeError\u001b[0m                            Traceback (most recent call last)",
      "\u001b[0;32m/var/folders/jc/ndcf0m_s67jbryjsrx2p2jbm0000gp/T/ipykernel_2204/2329025701.py\u001b[0m in \u001b[0;36m<module>\u001b[0;34m\u001b[0m\n\u001b[0;32m----> 1\u001b[0;31m \u001b[0mpd\u001b[0m\u001b[0;34m.\u001b[0m\u001b[0mDataFrame\u001b[0m\u001b[0;34m.\u001b[0m\u001b[0mfrom_dict\u001b[0m\u001b[0;34m(\u001b[0m\u001b[0mdiscount\u001b[0m\u001b[0;34m,\u001b[0m \u001b[0morient\u001b[0m\u001b[0;34m=\u001b[0m\u001b[0;34m'index'\u001b[0m\u001b[0;34m)\u001b[0m\u001b[0;34m\u001b[0m\u001b[0;34m\u001b[0m\u001b[0m\n\u001b[0m",
      "\u001b[0;32m/Library/Frameworks/Python.framework/Versions/3.10/lib/python3.10/site-packages/pandas/core/frame.py\u001b[0m in \u001b[0;36mfrom_dict\u001b[0;34m(cls, data, orient, dtype, columns)\u001b[0m\n\u001b[1;32m   1581\u001b[0m             \u001b[0;32mif\u001b[0m \u001b[0mlen\u001b[0m\u001b[0;34m(\u001b[0m\u001b[0mdata\u001b[0m\u001b[0;34m)\u001b[0m \u001b[0;34m>\u001b[0m \u001b[0;36m0\u001b[0m\u001b[0;34m:\u001b[0m\u001b[0;34m\u001b[0m\u001b[0;34m\u001b[0m\u001b[0m\n\u001b[1;32m   1582\u001b[0m                 \u001b[0;31m# TODO speed up Series case\u001b[0m\u001b[0;34m\u001b[0m\u001b[0;34m\u001b[0m\u001b[0m\n\u001b[0;32m-> 1583\u001b[0;31m                 \u001b[0;32mif\u001b[0m \u001b[0misinstance\u001b[0m\u001b[0;34m(\u001b[0m\u001b[0mlist\u001b[0m\u001b[0;34m(\u001b[0m\u001b[0mdata\u001b[0m\u001b[0;34m.\u001b[0m\u001b[0mvalues\u001b[0m\u001b[0;34m(\u001b[0m\u001b[0;34m)\u001b[0m\u001b[0;34m)\u001b[0m\u001b[0;34m[\u001b[0m\u001b[0;36m0\u001b[0m\u001b[0;34m]\u001b[0m\u001b[0;34m,\u001b[0m \u001b[0;34m(\u001b[0m\u001b[0mSeries\u001b[0m\u001b[0;34m,\u001b[0m \u001b[0mdict\u001b[0m\u001b[0;34m)\u001b[0m\u001b[0;34m)\u001b[0m\u001b[0;34m:\u001b[0m\u001b[0;34m\u001b[0m\u001b[0;34m\u001b[0m\u001b[0m\n\u001b[0m\u001b[1;32m   1584\u001b[0m                     \u001b[0mdata\u001b[0m \u001b[0;34m=\u001b[0m \u001b[0m_from_nested_dict\u001b[0m\u001b[0;34m(\u001b[0m\u001b[0mdata\u001b[0m\u001b[0;34m)\u001b[0m\u001b[0;34m\u001b[0m\u001b[0;34m\u001b[0m\u001b[0m\n\u001b[1;32m   1585\u001b[0m                 \u001b[0;32melse\u001b[0m\u001b[0;34m:\u001b[0m\u001b[0;34m\u001b[0m\u001b[0;34m\u001b[0m\u001b[0m\n",
      "\u001b[0;31mAttributeError\u001b[0m: 'list' object has no attribute 'values'"
     ]
    }
   ],
   "source": [
    "pd.DataFrame.from_dictT(discount, orient='index')"
   ]
  },
  {
   "cell_type": "code",
   "execution_count": 14,
   "id": "86f5a785",
   "metadata": {},
   "outputs": [
    {
     "name": "stdout",
     "output_type": "stream",
     "text": [
      "Object `pd.DataFrame.from_dict()` not found.\n"
     ]
    }
   ],
   "source": [
    "?pd.DataFrame.from_dict()"
   ]
  },
  {
   "cell_type": "markdown",
   "id": "ae01713c",
   "metadata": {},
   "source": [
    "## Product table"
   ]
  },
  {
   "cell_type": "markdown",
   "id": "695f5dd1",
   "metadata": {},
   "source": [
    "To create a list of all products with unique ID's, a nested list was created including all possible shoe sizes, colors, and product names/categories. Then, all possible combinations are calculated and put into a dataframe. Each row represents a unique product.\n"
   ]
  },
  {
   "cell_type": "code",
   "execution_count": 5,
   "id": "176a8279",
   "metadata": {},
   "outputs": [],
   "source": [
    "import itertools\n",
    "import pandas as pd\n",
    "\n",
    "size = []\n",
    "for i in range(36,49):\n",
    "    size.append(i)\n",
    "\n",
    "color = ['Crimson', 'Navy', 'Olive', 'Baby Blue',\n",
    "         'Cyan', 'Coral', 'Azure', 'Denim', 'Peach'\n",
    "        ]\n",
    "\n",
    "#A nested list with all product specifications is used to find all the possible permutations \n",
    "productcategories = [['Sweatzy Men','Sweatzy Women',\n",
    "               'Wove Men','Wove Women',\n",
    "               'Bootwear Men','Bootwear Women',\n",
    "               'Frove Men','Frove Women',\n",
    "               'Swoonix Men','Swoonix Women'\n",
    "              ],\n",
    "               ['Crimson', 'Navy', 'Olive', 'Baby Blue',\n",
    "                'Cyan', 'Coral', 'Azure', 'Denim', 'Peach'],\n",
    "               size\n",
    "              ]"
   ]
  },
  {
   "cell_type": "markdown",
   "id": "551863eb",
   "metadata": {},
   "source": [
    "### Listing all permutations for products "
   ]
  },
  {
   "cell_type": "code",
   "execution_count": 6,
   "id": "d9dda0c6",
   "metadata": {},
   "outputs": [
    {
     "data": {
      "text/html": [
       "<div>\n",
       "<style scoped>\n",
       "    .dataframe tbody tr th:only-of-type {\n",
       "        vertical-align: middle;\n",
       "    }\n",
       "\n",
       "    .dataframe tbody tr th {\n",
       "        vertical-align: top;\n",
       "    }\n",
       "\n",
       "    .dataframe thead th {\n",
       "        text-align: right;\n",
       "    }\n",
       "</style>\n",
       "<table border=\"1\" class=\"dataframe\">\n",
       "  <thead>\n",
       "    <tr style=\"text-align: right;\">\n",
       "      <th></th>\n",
       "      <th>ProductName</th>\n",
       "      <th>ProductColor</th>\n",
       "      <th>ProductSize</th>\n",
       "    </tr>\n",
       "  </thead>\n",
       "  <tbody>\n",
       "    <tr>\n",
       "      <th>0</th>\n",
       "      <td>Sweatzy Men</td>\n",
       "      <td>Crimson</td>\n",
       "      <td>36</td>\n",
       "    </tr>\n",
       "    <tr>\n",
       "      <th>1</th>\n",
       "      <td>Sweatzy Men</td>\n",
       "      <td>Crimson</td>\n",
       "      <td>37</td>\n",
       "    </tr>\n",
       "    <tr>\n",
       "      <th>2</th>\n",
       "      <td>Sweatzy Men</td>\n",
       "      <td>Crimson</td>\n",
       "      <td>38</td>\n",
       "    </tr>\n",
       "    <tr>\n",
       "      <th>3</th>\n",
       "      <td>Sweatzy Men</td>\n",
       "      <td>Crimson</td>\n",
       "      <td>39</td>\n",
       "    </tr>\n",
       "    <tr>\n",
       "      <th>4</th>\n",
       "      <td>Sweatzy Men</td>\n",
       "      <td>Crimson</td>\n",
       "      <td>40</td>\n",
       "    </tr>\n",
       "  </tbody>\n",
       "</table>\n",
       "</div>"
      ],
      "text/plain": [
       "   ProductName ProductColor  ProductSize\n",
       "0  Sweatzy Men      Crimson           36\n",
       "1  Sweatzy Men      Crimson           37\n",
       "2  Sweatzy Men      Crimson           38\n",
       "3  Sweatzy Men      Crimson           39\n",
       "4  Sweatzy Men      Crimson           40"
      ]
     },
     "execution_count": 6,
     "metadata": {},
     "output_type": "execute_result"
    }
   ],
   "source": [
    "#All permutations are put into a single list and then transformed into a dataframe.\n",
    "products = list(itertools.product(*productcategories))\n",
    "\n",
    "productsdf = pd.DataFrame (products, columns = ['ProductName', 'ProductColor', 'ProductSize'])\n",
    "productsdf.head(5)\n"
   ]
  },
  {
   "cell_type": "code",
   "execution_count": 7,
   "id": "3a5514ae",
   "metadata": {},
   "outputs": [
    {
     "data": {
      "text/plain": [
       "(1170, 3)"
      ]
     },
     "execution_count": 7,
     "metadata": {},
     "output_type": "execute_result"
    }
   ],
   "source": [
    "productsdf.shape"
   ]
  },
  {
   "cell_type": "markdown",
   "id": "d50d1dd0",
   "metadata": {},
   "source": [
    "Because kids have different shoe sizes than men and women, the possible permutations are calculated separately and appended afterwards."
   ]
  },
  {
   "cell_type": "code",
   "execution_count": 8,
   "id": "6791eb92",
   "metadata": {},
   "outputs": [
    {
     "name": "stdout",
     "output_type": "stream",
     "text": [
      "[['Sweatzy Kids', 'Wove Kids', 'Bootwear Kids', 'Frove Kids', 'Swoonix Kids'], ['Crimson', 'Navy', 'Olive', 'Baby Blue', 'Cyan', 'Coral', 'Azure', 'Denim', 'Peach'], [26, 27, 28, 29, 30, 31, 32, 33, 34, 35, 36, 37, 38]]\n"
     ]
    }
   ],
   "source": [
    "#This step was done before but repeated for the kids products \n",
    "kidssize = []\n",
    "for i in range(26, 39):\n",
    "    kidssize.append(i)\n",
    "\n",
    "kidscategories = [['Sweatzy Kids', 'Wove Kids', 'Bootwear Kids', 'Frove Kids', 'Swoonix Kids'],\n",
    "                ['Crimson', 'Navy', 'Olive', 'Baby Blue',\n",
    "                 'Cyan', 'Coral', 'Azure', 'Denim', 'Peach'],\n",
    "                kidssize\n",
    "               ]\n",
    "print(kidscategories)\n"
   ]
  },
  {
   "cell_type": "markdown",
   "id": "3caf4588",
   "metadata": {},
   "source": [
    "### Listing all permutations for the kids products"
   ]
  },
  {
   "cell_type": "code",
   "execution_count": 9,
   "id": "2575511d",
   "metadata": {},
   "outputs": [],
   "source": [
    "import itertools\n",
    "kidsproducts = list(itertools.product(*kidscategories))\n"
   ]
  },
  {
   "cell_type": "code",
   "execution_count": 10,
   "id": "8a1b9dfa",
   "metadata": {},
   "outputs": [
    {
     "data": {
      "text/plain": [
       "(585, 3)"
      ]
     },
     "execution_count": 10,
     "metadata": {},
     "output_type": "execute_result"
    }
   ],
   "source": [
    "\n",
    "kidsproductsdf = pd.DataFrame (kidsproducts, columns = ['ProductName', 'ProductColor', 'ProductSize'])\n",
    "kidsproductsdf.head(5)\n",
    "kidsproductsdf.shape"
   ]
  },
  {
   "cell_type": "code",
   "execution_count": 11,
   "id": "bef0c91f",
   "metadata": {},
   "outputs": [],
   "source": [
    "#kidsproductsdf.describe()"
   ]
  },
  {
   "cell_type": "markdown",
   "id": "aca0bbc2",
   "metadata": {},
   "source": [
    "### Appending kids dataframe to other dataframe to create one products dataframe"
   ]
  },
  {
   "cell_type": "code",
   "execution_count": 12,
   "id": "3ca8fa21",
   "metadata": {},
   "outputs": [],
   "source": [
    "productsdf = productsdf.append(kidsproductsdf)\n",
    "#productsdf.describe()\n"
   ]
  },
  {
   "cell_type": "markdown",
   "id": "db22f472",
   "metadata": {},
   "source": [
    "### Conditions for product price of different shoes"
   ]
  },
  {
   "cell_type": "markdown",
   "id": "37cffd37",
   "metadata": {},
   "source": [
    "The price are allocated to a certain shoe based on the product category but also whether it's a kids or adult shoe."
   ]
  },
  {
   "cell_type": "code",
   "execution_count": 13,
   "id": "616322e4",
   "metadata": {},
   "outputs": [],
   "source": [
    "def productprice (row):\n",
    "    if row['ProductName'] == 'Sweatzy Kids' :\n",
    "        return 39.95\n",
    "    if row['ProductName'] == 'Sweatzy Men' or row['ProductName'] == 'Sweatzy Women':\n",
    "        return 49.95\n",
    "    if row['ProductName'] == 'Wove Kids' :\n",
    "        return 49.95\n",
    "    if row['ProductName'] == 'Wove Men' or row['ProductName'] == 'Wove Women' :\n",
    "        return 59.95\n",
    "    if row['ProductName'] == 'Bootwear Kids' :\n",
    "        return 64.95\n",
    "    if row['ProductName'] == 'Bootwear Men' or row['ProductName'] == 'Bootwear Women' :\n",
    "        return 74.95\n",
    "    if row['ProductName'] == 'Frove Kids' :\n",
    "        return 49.95\n",
    "    if row['ProductName'] == 'Frove Men' or row['ProductName'] == 'Frove Women' :\n",
    "        return 59.95\n",
    "    if row['ProductName'] == 'Swoonix Kids' :\n",
    "        return 54.95\n",
    "    if row['ProductName'] == 'Swoonix Men' or row['ProductName'] == 'Swoonix Women' :\n",
    "        return 64.95\n"
   ]
  },
  {
   "cell_type": "code",
   "execution_count": 14,
   "id": "0291cb9a",
   "metadata": {},
   "outputs": [
    {
     "data": {
      "text/html": [
       "<div>\n",
       "<style scoped>\n",
       "    .dataframe tbody tr th:only-of-type {\n",
       "        vertical-align: middle;\n",
       "    }\n",
       "\n",
       "    .dataframe tbody tr th {\n",
       "        vertical-align: top;\n",
       "    }\n",
       "\n",
       "    .dataframe thead th {\n",
       "        text-align: right;\n",
       "    }\n",
       "</style>\n",
       "<table border=\"1\" class=\"dataframe\">\n",
       "  <thead>\n",
       "    <tr style=\"text-align: right;\">\n",
       "      <th></th>\n",
       "      <th>ProductName</th>\n",
       "      <th>ProductColor</th>\n",
       "      <th>ProductSize</th>\n",
       "    </tr>\n",
       "  </thead>\n",
       "  <tbody>\n",
       "    <tr>\n",
       "      <th>0</th>\n",
       "      <td>Sweatzy Men</td>\n",
       "      <td>Crimson</td>\n",
       "      <td>36</td>\n",
       "    </tr>\n",
       "    <tr>\n",
       "      <th>1</th>\n",
       "      <td>Sweatzy Men</td>\n",
       "      <td>Crimson</td>\n",
       "      <td>37</td>\n",
       "    </tr>\n",
       "    <tr>\n",
       "      <th>2</th>\n",
       "      <td>Sweatzy Men</td>\n",
       "      <td>Crimson</td>\n",
       "      <td>38</td>\n",
       "    </tr>\n",
       "    <tr>\n",
       "      <th>3</th>\n",
       "      <td>Sweatzy Men</td>\n",
       "      <td>Crimson</td>\n",
       "      <td>39</td>\n",
       "    </tr>\n",
       "    <tr>\n",
       "      <th>4</th>\n",
       "      <td>Sweatzy Men</td>\n",
       "      <td>Crimson</td>\n",
       "      <td>40</td>\n",
       "    </tr>\n",
       "    <tr>\n",
       "      <th>...</th>\n",
       "      <td>...</td>\n",
       "      <td>...</td>\n",
       "      <td>...</td>\n",
       "    </tr>\n",
       "    <tr>\n",
       "      <th>580</th>\n",
       "      <td>Swoonix Kids</td>\n",
       "      <td>Peach</td>\n",
       "      <td>34</td>\n",
       "    </tr>\n",
       "    <tr>\n",
       "      <th>581</th>\n",
       "      <td>Swoonix Kids</td>\n",
       "      <td>Peach</td>\n",
       "      <td>35</td>\n",
       "    </tr>\n",
       "    <tr>\n",
       "      <th>582</th>\n",
       "      <td>Swoonix Kids</td>\n",
       "      <td>Peach</td>\n",
       "      <td>36</td>\n",
       "    </tr>\n",
       "    <tr>\n",
       "      <th>583</th>\n",
       "      <td>Swoonix Kids</td>\n",
       "      <td>Peach</td>\n",
       "      <td>37</td>\n",
       "    </tr>\n",
       "    <tr>\n",
       "      <th>584</th>\n",
       "      <td>Swoonix Kids</td>\n",
       "      <td>Peach</td>\n",
       "      <td>38</td>\n",
       "    </tr>\n",
       "  </tbody>\n",
       "</table>\n",
       "<p>1755 rows × 3 columns</p>\n",
       "</div>"
      ],
      "text/plain": [
       "      ProductName ProductColor  ProductSize\n",
       "0     Sweatzy Men      Crimson           36\n",
       "1     Sweatzy Men      Crimson           37\n",
       "2     Sweatzy Men      Crimson           38\n",
       "3     Sweatzy Men      Crimson           39\n",
       "4     Sweatzy Men      Crimson           40\n",
       "..            ...          ...          ...\n",
       "580  Swoonix Kids        Peach           34\n",
       "581  Swoonix Kids        Peach           35\n",
       "582  Swoonix Kids        Peach           36\n",
       "583  Swoonix Kids        Peach           37\n",
       "584  Swoonix Kids        Peach           38\n",
       "\n",
       "[1755 rows x 3 columns]"
      ]
     },
     "execution_count": 14,
     "metadata": {},
     "output_type": "execute_result"
    }
   ],
   "source": [
    "productsdf"
   ]
  },
  {
   "cell_type": "code",
   "execution_count": 15,
   "id": "54fa575d",
   "metadata": {},
   "outputs": [
    {
     "data": {
      "text/plain": [
       "0      49.95\n",
       "1      49.95\n",
       "2      49.95\n",
       "3      49.95\n",
       "4      49.95\n",
       "       ...  \n",
       "580    54.95\n",
       "581    54.95\n",
       "582    54.95\n",
       "583    54.95\n",
       "584    54.95\n",
       "Length: 1755, dtype: float64"
      ]
     },
     "execution_count": 15,
     "metadata": {},
     "output_type": "execute_result"
    }
   ],
   "source": [
    "productsdf.apply (lambda row: productprice(row), axis=1)"
   ]
  },
  {
   "cell_type": "code",
   "execution_count": 16,
   "id": "64495bc2",
   "metadata": {},
   "outputs": [
    {
     "data": {
      "text/html": [
       "<div>\n",
       "<style scoped>\n",
       "    .dataframe tbody tr th:only-of-type {\n",
       "        vertical-align: middle;\n",
       "    }\n",
       "\n",
       "    .dataframe tbody tr th {\n",
       "        vertical-align: top;\n",
       "    }\n",
       "\n",
       "    .dataframe thead th {\n",
       "        text-align: right;\n",
       "    }\n",
       "</style>\n",
       "<table border=\"1\" class=\"dataframe\">\n",
       "  <thead>\n",
       "    <tr style=\"text-align: right;\">\n",
       "      <th></th>\n",
       "      <th>ProductName</th>\n",
       "      <th>ProductColor</th>\n",
       "      <th>ProductSize</th>\n",
       "      <th>ProductPrice</th>\n",
       "    </tr>\n",
       "  </thead>\n",
       "  <tbody>\n",
       "    <tr>\n",
       "      <th>0</th>\n",
       "      <td>Sweatzy Men</td>\n",
       "      <td>Crimson</td>\n",
       "      <td>36</td>\n",
       "      <td>49.95</td>\n",
       "    </tr>\n",
       "    <tr>\n",
       "      <th>1</th>\n",
       "      <td>Sweatzy Men</td>\n",
       "      <td>Crimson</td>\n",
       "      <td>37</td>\n",
       "      <td>49.95</td>\n",
       "    </tr>\n",
       "    <tr>\n",
       "      <th>2</th>\n",
       "      <td>Sweatzy Men</td>\n",
       "      <td>Crimson</td>\n",
       "      <td>38</td>\n",
       "      <td>49.95</td>\n",
       "    </tr>\n",
       "    <tr>\n",
       "      <th>3</th>\n",
       "      <td>Sweatzy Men</td>\n",
       "      <td>Crimson</td>\n",
       "      <td>39</td>\n",
       "      <td>49.95</td>\n",
       "    </tr>\n",
       "    <tr>\n",
       "      <th>4</th>\n",
       "      <td>Sweatzy Men</td>\n",
       "      <td>Crimson</td>\n",
       "      <td>40</td>\n",
       "      <td>49.95</td>\n",
       "    </tr>\n",
       "    <tr>\n",
       "      <th>...</th>\n",
       "      <td>...</td>\n",
       "      <td>...</td>\n",
       "      <td>...</td>\n",
       "      <td>...</td>\n",
       "    </tr>\n",
       "    <tr>\n",
       "      <th>580</th>\n",
       "      <td>Swoonix Kids</td>\n",
       "      <td>Peach</td>\n",
       "      <td>34</td>\n",
       "      <td>54.95</td>\n",
       "    </tr>\n",
       "    <tr>\n",
       "      <th>581</th>\n",
       "      <td>Swoonix Kids</td>\n",
       "      <td>Peach</td>\n",
       "      <td>35</td>\n",
       "      <td>54.95</td>\n",
       "    </tr>\n",
       "    <tr>\n",
       "      <th>582</th>\n",
       "      <td>Swoonix Kids</td>\n",
       "      <td>Peach</td>\n",
       "      <td>36</td>\n",
       "      <td>54.95</td>\n",
       "    </tr>\n",
       "    <tr>\n",
       "      <th>583</th>\n",
       "      <td>Swoonix Kids</td>\n",
       "      <td>Peach</td>\n",
       "      <td>37</td>\n",
       "      <td>54.95</td>\n",
       "    </tr>\n",
       "    <tr>\n",
       "      <th>584</th>\n",
       "      <td>Swoonix Kids</td>\n",
       "      <td>Peach</td>\n",
       "      <td>38</td>\n",
       "      <td>54.95</td>\n",
       "    </tr>\n",
       "  </tbody>\n",
       "</table>\n",
       "<p>1755 rows × 4 columns</p>\n",
       "</div>"
      ],
      "text/plain": [
       "      ProductName ProductColor  ProductSize  ProductPrice\n",
       "0     Sweatzy Men      Crimson           36         49.95\n",
       "1     Sweatzy Men      Crimson           37         49.95\n",
       "2     Sweatzy Men      Crimson           38         49.95\n",
       "3     Sweatzy Men      Crimson           39         49.95\n",
       "4     Sweatzy Men      Crimson           40         49.95\n",
       "..            ...          ...          ...           ...\n",
       "580  Swoonix Kids        Peach           34         54.95\n",
       "581  Swoonix Kids        Peach           35         54.95\n",
       "582  Swoonix Kids        Peach           36         54.95\n",
       "583  Swoonix Kids        Peach           37         54.95\n",
       "584  Swoonix Kids        Peach           38         54.95\n",
       "\n",
       "[1755 rows x 4 columns]"
      ]
     },
     "execution_count": 16,
     "metadata": {},
     "output_type": "execute_result"
    }
   ],
   "source": [
    "productsdf['ProductPrice'] = productsdf.apply (lambda row: productprice(row), axis=1)\n",
    "productsdf"
   ]
  },
  {
   "cell_type": "markdown",
   "id": "6d58cae3",
   "metadata": {},
   "source": [
    "The product table has 1755 unique combinations of shoe types, colors, and sizes. "
   ]
  },
  {
   "cell_type": "markdown",
   "id": "7b518274",
   "metadata": {},
   "source": [
    "### Probabilities of shoe sizes"
   ]
  },
  {
   "cell_type": "markdown",
   "id": "302fda21",
   "metadata": {},
   "source": [
    "First, a product table was made separately for men, women, and kids shoes. The probability of a product ID being bought is based on a normal distribution of size.\n",
    "\n",
    "For men, shoe size is normally distributed with an average of 43 and sd = 2.0.\n",
    "\n",
    "For women, shoe size is normally distributed with an average of 39 and sd = 2.0.\n",
    "\n",
    "Kids' shoes are not normally distributed considering the difference in height across multiple years. Instead, probabilities were assigned manually.\n"
   ]
  },
  {
   "cell_type": "markdown",
   "id": "5bebbcfc",
   "metadata": {},
   "source": [
    "#### Men"
   ]
  },
  {
   "cell_type": "code",
   "execution_count": 17,
   "id": "c08a7895",
   "metadata": {},
   "outputs": [
    {
     "name": "stdout",
     "output_type": "stream",
     "text": [
      "[35, 36, 37, 38, 39, 40, 41, 42, 43, 44, 45, 46, 47, 48, 49]\n"
     ]
    }
   ],
   "source": [
    "sizes = []\n",
    "for i in range(35,50):\n",
    "    sizes.append(i)\n",
    "print(sizes)"
   ]
  },
  {
   "cell_type": "code",
   "execution_count": 18,
   "id": "13c514b7",
   "metadata": {},
   "outputs": [
    {
     "name": "stdout",
     "output_type": "stream",
     "text": [
      "[-3.75, -3.25, -2.75, -2.25, -1.75, -1.25, -0.75, -0.25, 0.25, 0.75, 1.25, 1.75, 2.25, 2.75, 3.25]\n"
     ]
    }
   ],
   "source": [
    "import scipy.stats as st\n",
    "\n",
    "#The normal distribution of shoe sizes\n",
    "u = 43.00\n",
    "o = 2.00\n",
    "\n",
    "#Z-scores are calculated for all possible shoe sizes\n",
    "Zscores = []\n",
    "for i in sizes:\n",
    "    Z = ((i+0.5)-u)/o\n",
    "    Zscores.append(Z)\n",
    "\n",
    "print(Zscores)"
   ]
  },
  {
   "cell_type": "markdown",
   "id": "ed674314",
   "metadata": {},
   "source": [
    "The Z-scores are transformed into the p-values for every shoe size. Note that size 35 was also included even though this is not an actual men shoe size, this was implemented because the probability of shoe size 36 was determined by calculating the P = 35.5 < X < 36.5 "
   ]
  },
  {
   "cell_type": "code",
   "execution_count": 19,
   "id": "3a061111",
   "metadata": {},
   "outputs": [
    {
     "name": "stdout",
     "output_type": "stream",
     "text": [
      "[8.841728520080377e-05, 0.0005770250423907659, 0.002979763235054555, 0.012224472655044696, 0.040059156863817086, 0.10564977366685535, 0.2266273523768682, 0.4012936743170763, 0.5987063256829237, 0.7733726476231317, 0.8943502263331446, 0.9599408431361829, 0.9877755273449553, 0.9970202367649454, 0.9994229749576092]\n"
     ]
    }
   ],
   "source": [
    "pvalues = []\n",
    "\n",
    "for i in Zscores:\n",
    "    p = st.norm.cdf(i)\n",
    "    pvalues.append(p)\n",
    "    \n",
    "print(pvalues)"
   ]
  },
  {
   "cell_type": "code",
   "execution_count": 20,
   "id": "8e09cdb7",
   "metadata": {},
   "outputs": [
    {
     "name": "stdout",
     "output_type": "stream",
     "text": [
      "[0.0005, 0.0024, 0.0092, 0.0278, 0.0656, 0.121, 0.1747, 0.1974, 0.1747, 0.121, 0.0656, 0.0278, 0.0092, 0.0024]\n"
     ]
    }
   ],
   "source": [
    "\n",
    "sizeprobability = []\n",
    "for i in range(len(pvalues)):\n",
    "    p_upper = pvalues[i]\n",
    "    p_lower = pvalues[i-1]\n",
    "    p = p_upper - p_lower\n",
    "    sizeprobability.append(round(p, 4))\n",
    "\n",
    "del sizeprobability[0]\n",
    "print(sizeprobability)"
   ]
  },
  {
   "cell_type": "markdown",
   "id": "1a0f2852",
   "metadata": {},
   "source": [
    "#### Men shoe size probabilties to dictionary"
   ]
  },
  {
   "cell_type": "code",
   "execution_count": 21,
   "id": "59a35ee9",
   "metadata": {},
   "outputs": [
    {
     "name": "stdout",
     "output_type": "stream",
     "text": [
      "{36: 0.0005, 37: 0.0024, 38: 0.0092, 39: 0.0278, 40: 0.0656, 41: 0.121, 42: 0.1747, 43: 0.1974, 44: 0.1747, 45: 0.121, 46: 0.0656, 47: 0.0278, 48: 0.0092}\n"
     ]
    }
   ],
   "source": [
    "sizedict = {}\n",
    "for key in size:\n",
    "    for prob in sizeprobability:\n",
    "        sizedict[key] = prob\n",
    "        sizeprobability.remove(prob)\n",
    "        break\n",
    "\n",
    "print(sizedict)"
   ]
  },
  {
   "cell_type": "markdown",
   "id": "b3cd9f0e",
   "metadata": {},
   "source": [
    "The steps explained above are repeated for women's shoes and kids' shoes."
   ]
  },
  {
   "cell_type": "markdown",
   "id": "5c92b2b8",
   "metadata": {},
   "source": [
    "#### Women"
   ]
  },
  {
   "cell_type": "code",
   "execution_count": 22,
   "id": "2f24a077",
   "metadata": {},
   "outputs": [
    {
     "name": "stdout",
     "output_type": "stream",
     "text": [
      "[35, 36, 37, 38, 39, 40, 41, 42, 43, 44, 45]\n",
      "[34, 35, 36, 37, 38, 39, 40, 41, 42, 43, 44, 45, 46]\n"
     ]
    }
   ],
   "source": [
    "womensize = []\n",
    "for i in range(35,46):\n",
    "    womensize.append(i)\n",
    "print(womensize)\n",
    "\n",
    "wsize = []\n",
    "\n",
    "for i in range(34, 47):\n",
    "    wsize.append(i)\n",
    "print(wsize)"
   ]
  },
  {
   "cell_type": "code",
   "execution_count": 23,
   "id": "1e1ba0c6",
   "metadata": {},
   "outputs": [
    {
     "name": "stdout",
     "output_type": "stream",
     "text": [
      "[-2.25, -1.75, -1.25, -0.75, -0.25, 0.25, 0.75, 1.25, 1.75, 2.25, 2.75, 3.25, 3.75]\n"
     ]
    }
   ],
   "source": [
    "u = 39.00\n",
    "o = 2.00\n",
    "\n",
    "Zscores = []\n",
    "for i in wsize:\n",
    "    Z = ((i+0.5)-u)/o\n",
    "    Zscores.append(Z)\n",
    "\n",
    "print(Zscores)"
   ]
  },
  {
   "cell_type": "code",
   "execution_count": 24,
   "id": "eff9506e",
   "metadata": {},
   "outputs": [
    {
     "name": "stdout",
     "output_type": "stream",
     "text": [
      "[0.012224472655044696, 0.040059156863817086, 0.10564977366685535, 0.2266273523768682, 0.4012936743170763, 0.5987063256829237, 0.7733726476231317, 0.8943502263331446, 0.9599408431361829, 0.9877755273449553, 0.9970202367649454, 0.9994229749576092, 0.9999115827147992]\n"
     ]
    }
   ],
   "source": [
    "pvalues = []\n",
    "\n",
    "for i in Zscores:\n",
    "    p = st.norm.cdf(i)\n",
    "    pvalues.append(p)\n",
    "    \n",
    "print(pvalues)"
   ]
  },
  {
   "cell_type": "code",
   "execution_count": 25,
   "id": "b35943cc",
   "metadata": {},
   "outputs": [
    {
     "name": "stdout",
     "output_type": "stream",
     "text": [
      "[0.0278, 0.0656, 0.121, 0.1747, 0.1974, 0.1747, 0.121, 0.0656, 0.0278, 0.0092, 0.0024, 0.0005]\n"
     ]
    }
   ],
   "source": [
    "wsizeprobability = []\n",
    "for i in range(len(pvalues)):\n",
    "    p_upper = pvalues[i]\n",
    "    p_lower = pvalues[i-1]\n",
    "    p = p_upper - p_lower\n",
    "    wsizeprobability.append(round(p, 4))\n",
    "\n",
    "del wsizeprobability[0]\n",
    "print(wsizeprobability)"
   ]
  },
  {
   "cell_type": "code",
   "execution_count": 26,
   "id": "8a9ef4bc",
   "metadata": {},
   "outputs": [
    {
     "name": "stdout",
     "output_type": "stream",
     "text": [
      "{35: 0.0278, 36: 0.0656, 37: 0.121, 38: 0.1747, 39: 0.1974, 40: 0.1747, 41: 0.121, 42: 0.0656, 43: 0.0278, 44: 0.0092, 45: 0.0024}\n"
     ]
    }
   ],
   "source": [
    "wsizedict = {}\n",
    "for key in womensize:\n",
    "    for prob in wsizeprobability:\n",
    "        wsizedict[key] = prob\n",
    "        wsizeprobability.remove(prob)\n",
    "        break\n",
    "\n",
    "print(wsizedict)"
   ]
  },
  {
   "cell_type": "markdown",
   "id": "f18124ad",
   "metadata": {},
   "source": [
    "### Remove women shoes with size > 45 and men shoes < 39"
   ]
  },
  {
   "cell_type": "markdown",
   "id": "a93b3e47",
   "metadata": {},
   "source": [
    "Due to extremely low probabilities, several shoe sizes are removed for men and women to reduce the number of different products."
   ]
  },
  {
   "cell_type": "code",
   "execution_count": 27,
   "id": "2fff59c4",
   "metadata": {},
   "outputs": [],
   "source": [
    "productsdf = productsdf.drop(productsdf[(productsdf.ProductSize > 45) & (productsdf.ProductName.str.strip().str[-5:] == 'Women')].index)\n",
    "productsdf = productsdf.drop(productsdf[(productsdf.ProductSize < 39) & (productsdf.ProductName.str.strip().str[-4:] == ' Men')].index)\n"
   ]
  },
  {
   "cell_type": "code",
   "execution_count": 28,
   "id": "be3005ba",
   "metadata": {},
   "outputs": [
    {
     "name": "stdout",
     "output_type": "stream",
     "text": [
      "3       Sweatzy Men\n",
      "4       Sweatzy Men\n",
      "5       Sweatzy Men\n",
      "6       Sweatzy Men\n",
      "7       Sweatzy Men\n",
      "           ...     \n",
      "580    Swoonix Kids\n",
      "581    Swoonix Kids\n",
      "582    Swoonix Kids\n",
      "583    Swoonix Kids\n",
      "584    Swoonix Kids\n",
      "Name: ProductName, Length: 1350, dtype: object\n"
     ]
    }
   ],
   "source": [
    "print(productsdf.iloc[:,0])#.strip()[-5:])"
   ]
  },
  {
   "cell_type": "markdown",
   "id": "0c060da0",
   "metadata": {},
   "source": [
    "#### Kids"
   ]
  },
  {
   "cell_type": "code",
   "execution_count": 29,
   "id": "20f7a731",
   "metadata": {},
   "outputs": [],
   "source": [
    "kidssizedict = {26:0.069,\n",
    "               27:0.069,\n",
    "               28:0.070,\n",
    "               29:0.071,\n",
    "               30:0.074,\n",
    "               31:0.075,\n",
    "               32:0.076,\n",
    "               33:0.078,\n",
    "               34:0.080,\n",
    "               35:0.082,\n",
    "               36:0.084,\n",
    "               37:0.085,\n",
    "               38:0.087}"
   ]
  },
  {
   "cell_type": "markdown",
   "id": "b5b6bb43",
   "metadata": {},
   "source": [
    "### Function to apply probabilities to Women and Men shoes"
   ]
  },
  {
   "cell_type": "code",
   "execution_count": 30,
   "id": "3113f81b",
   "metadata": {},
   "outputs": [],
   "source": [
    "def sizeprobability(sizep, productname):\n",
    "    if productname.strip()[-4:] == ' Men':\n",
    "        return sizedict[sizep]\n",
    "    if productname.strip()[-5:] == 'Women':\n",
    "        return wsizedict[sizep]\n",
    "    if productname.strip()[-4:] == 'Kids':\n",
    "         return kidssizedict[sizep]"
   ]
  },
  {
   "cell_type": "code",
   "execution_count": 31,
   "id": "5659c653",
   "metadata": {},
   "outputs": [
    {
     "data": {
      "text/plain": [
       "0.07"
      ]
     },
     "execution_count": 31,
     "metadata": {},
     "output_type": "execute_result"
    }
   ],
   "source": [
    "kidssizedict[28]\n",
    "\n",
    "# print(sizeprobability(36, 'FROVE_KIDS'))"
   ]
  },
  {
   "cell_type": "code",
   "execution_count": 32,
   "id": "7084af25",
   "metadata": {},
   "outputs": [
    {
     "data": {
      "text/plain": [
       "0.069"
      ]
     },
     "execution_count": 32,
     "metadata": {},
     "output_type": "execute_result"
    }
   ],
   "source": [
    "sizeprobability(26, 'Frove Kids')"
   ]
  },
  {
   "cell_type": "code",
   "execution_count": 33,
   "id": "a65e72da",
   "metadata": {},
   "outputs": [
    {
     "data": {
      "text/html": [
       "<div>\n",
       "<style scoped>\n",
       "    .dataframe tbody tr th:only-of-type {\n",
       "        vertical-align: middle;\n",
       "    }\n",
       "\n",
       "    .dataframe tbody tr th {\n",
       "        vertical-align: top;\n",
       "    }\n",
       "\n",
       "    .dataframe thead th {\n",
       "        text-align: right;\n",
       "    }\n",
       "</style>\n",
       "<table border=\"1\" class=\"dataframe\">\n",
       "  <thead>\n",
       "    <tr style=\"text-align: right;\">\n",
       "      <th></th>\n",
       "      <th>ProductName</th>\n",
       "      <th>ProductColor</th>\n",
       "      <th>ProductSize</th>\n",
       "      <th>ProductPrice</th>\n",
       "    </tr>\n",
       "  </thead>\n",
       "  <tbody>\n",
       "    <tr>\n",
       "      <th>3</th>\n",
       "      <td>Sweatzy Men</td>\n",
       "      <td>Crimson</td>\n",
       "      <td>39</td>\n",
       "      <td>49.95</td>\n",
       "    </tr>\n",
       "    <tr>\n",
       "      <th>4</th>\n",
       "      <td>Sweatzy Men</td>\n",
       "      <td>Crimson</td>\n",
       "      <td>40</td>\n",
       "      <td>49.95</td>\n",
       "    </tr>\n",
       "    <tr>\n",
       "      <th>5</th>\n",
       "      <td>Sweatzy Men</td>\n",
       "      <td>Crimson</td>\n",
       "      <td>41</td>\n",
       "      <td>49.95</td>\n",
       "    </tr>\n",
       "    <tr>\n",
       "      <th>6</th>\n",
       "      <td>Sweatzy Men</td>\n",
       "      <td>Crimson</td>\n",
       "      <td>42</td>\n",
       "      <td>49.95</td>\n",
       "    </tr>\n",
       "    <tr>\n",
       "      <th>7</th>\n",
       "      <td>Sweatzy Men</td>\n",
       "      <td>Crimson</td>\n",
       "      <td>43</td>\n",
       "      <td>49.95</td>\n",
       "    </tr>\n",
       "  </tbody>\n",
       "</table>\n",
       "</div>"
      ],
      "text/plain": [
       "   ProductName ProductColor  ProductSize  ProductPrice\n",
       "3  Sweatzy Men      Crimson           39         49.95\n",
       "4  Sweatzy Men      Crimson           40         49.95\n",
       "5  Sweatzy Men      Crimson           41         49.95\n",
       "6  Sweatzy Men      Crimson           42         49.95\n",
       "7  Sweatzy Men      Crimson           43         49.95"
      ]
     },
     "execution_count": 33,
     "metadata": {},
     "output_type": "execute_result"
    }
   ],
   "source": [
    "productsdf.head()"
   ]
  },
  {
   "cell_type": "code",
   "execution_count": 34,
   "id": "38a3839f",
   "metadata": {},
   "outputs": [],
   "source": [
    "productsdf['Probability'] = productsdf.apply(lambda x: sizeprobability(x['ProductSize'], x['ProductName']), axis=1)\n"
   ]
  },
  {
   "cell_type": "code",
   "execution_count": 35,
   "id": "e6ae13da",
   "metadata": {},
   "outputs": [],
   "source": [
    "#kidsproductsdf.describe()"
   ]
  },
  {
   "cell_type": "code",
   "execution_count": 36,
   "id": "69c956b2",
   "metadata": {},
   "outputs": [],
   "source": [
    "#productsdf.describe()"
   ]
  },
  {
   "cell_type": "code",
   "execution_count": 37,
   "id": "07abbaaa",
   "metadata": {},
   "outputs": [
    {
     "data": {
      "text/html": [
       "<div>\n",
       "<style scoped>\n",
       "    .dataframe tbody tr th:only-of-type {\n",
       "        vertical-align: middle;\n",
       "    }\n",
       "\n",
       "    .dataframe tbody tr th {\n",
       "        vertical-align: top;\n",
       "    }\n",
       "\n",
       "    .dataframe thead th {\n",
       "        text-align: right;\n",
       "    }\n",
       "</style>\n",
       "<table border=\"1\" class=\"dataframe\">\n",
       "  <thead>\n",
       "    <tr style=\"text-align: right;\">\n",
       "      <th></th>\n",
       "      <th>ProductName</th>\n",
       "      <th>ProductColor</th>\n",
       "      <th>ProductSize</th>\n",
       "      <th>ProductPrice</th>\n",
       "      <th>Probability</th>\n",
       "    </tr>\n",
       "  </thead>\n",
       "  <tbody>\n",
       "    <tr>\n",
       "      <th>3</th>\n",
       "      <td>Sweatzy Men</td>\n",
       "      <td>Crimson</td>\n",
       "      <td>39</td>\n",
       "      <td>49.95</td>\n",
       "      <td>0.0278</td>\n",
       "    </tr>\n",
       "    <tr>\n",
       "      <th>4</th>\n",
       "      <td>Sweatzy Men</td>\n",
       "      <td>Crimson</td>\n",
       "      <td>40</td>\n",
       "      <td>49.95</td>\n",
       "      <td>0.0656</td>\n",
       "    </tr>\n",
       "    <tr>\n",
       "      <th>5</th>\n",
       "      <td>Sweatzy Men</td>\n",
       "      <td>Crimson</td>\n",
       "      <td>41</td>\n",
       "      <td>49.95</td>\n",
       "      <td>0.1210</td>\n",
       "    </tr>\n",
       "    <tr>\n",
       "      <th>6</th>\n",
       "      <td>Sweatzy Men</td>\n",
       "      <td>Crimson</td>\n",
       "      <td>42</td>\n",
       "      <td>49.95</td>\n",
       "      <td>0.1747</td>\n",
       "    </tr>\n",
       "    <tr>\n",
       "      <th>7</th>\n",
       "      <td>Sweatzy Men</td>\n",
       "      <td>Crimson</td>\n",
       "      <td>43</td>\n",
       "      <td>49.95</td>\n",
       "      <td>0.1974</td>\n",
       "    </tr>\n",
       "    <tr>\n",
       "      <th>...</th>\n",
       "      <td>...</td>\n",
       "      <td>...</td>\n",
       "      <td>...</td>\n",
       "      <td>...</td>\n",
       "      <td>...</td>\n",
       "    </tr>\n",
       "    <tr>\n",
       "      <th>580</th>\n",
       "      <td>Swoonix Kids</td>\n",
       "      <td>Peach</td>\n",
       "      <td>34</td>\n",
       "      <td>54.95</td>\n",
       "      <td>0.0800</td>\n",
       "    </tr>\n",
       "    <tr>\n",
       "      <th>581</th>\n",
       "      <td>Swoonix Kids</td>\n",
       "      <td>Peach</td>\n",
       "      <td>35</td>\n",
       "      <td>54.95</td>\n",
       "      <td>0.0820</td>\n",
       "    </tr>\n",
       "    <tr>\n",
       "      <th>582</th>\n",
       "      <td>Swoonix Kids</td>\n",
       "      <td>Peach</td>\n",
       "      <td>36</td>\n",
       "      <td>54.95</td>\n",
       "      <td>0.0840</td>\n",
       "    </tr>\n",
       "    <tr>\n",
       "      <th>583</th>\n",
       "      <td>Swoonix Kids</td>\n",
       "      <td>Peach</td>\n",
       "      <td>37</td>\n",
       "      <td>54.95</td>\n",
       "      <td>0.0850</td>\n",
       "    </tr>\n",
       "    <tr>\n",
       "      <th>584</th>\n",
       "      <td>Swoonix Kids</td>\n",
       "      <td>Peach</td>\n",
       "      <td>38</td>\n",
       "      <td>54.95</td>\n",
       "      <td>0.0870</td>\n",
       "    </tr>\n",
       "  </tbody>\n",
       "</table>\n",
       "<p>1350 rows × 5 columns</p>\n",
       "</div>"
      ],
      "text/plain": [
       "      ProductName ProductColor  ProductSize  ProductPrice  Probability\n",
       "3     Sweatzy Men      Crimson           39         49.95       0.0278\n",
       "4     Sweatzy Men      Crimson           40         49.95       0.0656\n",
       "5     Sweatzy Men      Crimson           41         49.95       0.1210\n",
       "6     Sweatzy Men      Crimson           42         49.95       0.1747\n",
       "7     Sweatzy Men      Crimson           43         49.95       0.1974\n",
       "..            ...          ...          ...           ...          ...\n",
       "580  Swoonix Kids        Peach           34         54.95       0.0800\n",
       "581  Swoonix Kids        Peach           35         54.95       0.0820\n",
       "582  Swoonix Kids        Peach           36         54.95       0.0840\n",
       "583  Swoonix Kids        Peach           37         54.95       0.0850\n",
       "584  Swoonix Kids        Peach           38         54.95       0.0870\n",
       "\n",
       "[1350 rows x 5 columns]"
      ]
     },
     "metadata": {},
     "output_type": "display_data"
    }
   ],
   "source": [
    "display(productsdf)"
   ]
  },
  {
   "cell_type": "code",
   "execution_count": 46,
   "id": "fe9d7537",
   "metadata": {},
   "outputs": [],
   "source": [
    "# Add unique productID \n",
    "productsdf1 = productsdf.copy()\n",
    "productsdf1.insert(0, 'ProductID', ['P' + str(i) for i in range(int(1e4), int(1e4) + len(productsdf))])\n",
    "#productsdf1['productID'] = "
   ]
  },
  {
   "cell_type": "code",
   "execution_count": 47,
   "id": "5219be65",
   "metadata": {},
   "outputs": [],
   "source": [
    "# Add column with date a shoe is introduced\n",
    "import datetime\n",
    "productsdf1['DateIntroduced'] = 2003\n",
    "productsdf1.loc[productsdf1.ProductName.astype(str).str[:7] == 'Sweatzy', \"DateIntroduced\"] = 2007\n",
    "productsdf1.loc[productsdf1.ProductName.astype(str).str[:8] == 'Bootwear', \"DateIntroduced\"] = 2014"
   ]
  },
  {
   "cell_type": "code",
   "execution_count": 48,
   "id": "a070ec76",
   "metadata": {},
   "outputs": [
    {
     "data": {
      "text/plain": [
       "ProductID          object\n",
       "ProductName        object\n",
       "ProductColor       object\n",
       "ProductSize         int64\n",
       "ProductPrice      float64\n",
       "Probability       float64\n",
       "DateIntroduced      int64\n",
       "dtype: object"
      ]
     },
     "execution_count": 48,
     "metadata": {},
     "output_type": "execute_result"
    }
   ],
   "source": [
    "productsdf1.dtypes"
   ]
  },
  {
   "cell_type": "code",
   "execution_count": 49,
   "id": "f4618b1b",
   "metadata": {},
   "outputs": [],
   "source": [
    "# Add different (arbitrary) probabilities for the type of shoe, so that the 'cheap' shoe sells more often\n",
    "# Multiply this with the existing probabilities to get a new probability \n",
    "\n",
    "type_prob = {'Sweatzy': 30,\n",
    "    'Wove': 23,\n",
    "    'Bootwear': 15,\n",
    "    'Frove': 20,\n",
    "    'Swoonix': 12}\n",
    "\n",
    "productsdf1['Probability'] = productsdf1['ProductName'].str.split(' ').str[0].map(type_prob)*productsdf1.Probability"
   ]
  },
  {
   "cell_type": "code",
   "execution_count": 50,
   "id": "37d6e9b4",
   "metadata": {},
   "outputs": [],
   "source": [
    "# Add gender column\n",
    "productsdf1['ProductType'] = productsdf1['ProductName'].str.split(' ').str[1]"
   ]
  },
  {
   "cell_type": "code",
   "execution_count": 51,
   "id": "02221b5e",
   "metadata": {},
   "outputs": [
    {
     "data": {
      "text/html": [
       "<div>\n",
       "<style scoped>\n",
       "    .dataframe tbody tr th:only-of-type {\n",
       "        vertical-align: middle;\n",
       "    }\n",
       "\n",
       "    .dataframe tbody tr th {\n",
       "        vertical-align: top;\n",
       "    }\n",
       "\n",
       "    .dataframe thead th {\n",
       "        text-align: right;\n",
       "    }\n",
       "</style>\n",
       "<table border=\"1\" class=\"dataframe\">\n",
       "  <thead>\n",
       "    <tr style=\"text-align: right;\">\n",
       "      <th></th>\n",
       "      <th>ProductID</th>\n",
       "      <th>ProductName</th>\n",
       "      <th>ProductColor</th>\n",
       "      <th>ProductSize</th>\n",
       "      <th>ProductPrice</th>\n",
       "      <th>Probability</th>\n",
       "      <th>DateIntroduced</th>\n",
       "      <th>ProductType</th>\n",
       "    </tr>\n",
       "  </thead>\n",
       "  <tbody>\n",
       "    <tr>\n",
       "      <th>3</th>\n",
       "      <td>P10000</td>\n",
       "      <td>Sweatzy Men</td>\n",
       "      <td>Crimson</td>\n",
       "      <td>39</td>\n",
       "      <td>49.95</td>\n",
       "      <td>0.834</td>\n",
       "      <td>2007</td>\n",
       "      <td>Men</td>\n",
       "    </tr>\n",
       "    <tr>\n",
       "      <th>4</th>\n",
       "      <td>P10001</td>\n",
       "      <td>Sweatzy Men</td>\n",
       "      <td>Crimson</td>\n",
       "      <td>40</td>\n",
       "      <td>49.95</td>\n",
       "      <td>1.968</td>\n",
       "      <td>2007</td>\n",
       "      <td>Men</td>\n",
       "    </tr>\n",
       "    <tr>\n",
       "      <th>5</th>\n",
       "      <td>P10002</td>\n",
       "      <td>Sweatzy Men</td>\n",
       "      <td>Crimson</td>\n",
       "      <td>41</td>\n",
       "      <td>49.95</td>\n",
       "      <td>3.630</td>\n",
       "      <td>2007</td>\n",
       "      <td>Men</td>\n",
       "    </tr>\n",
       "    <tr>\n",
       "      <th>6</th>\n",
       "      <td>P10003</td>\n",
       "      <td>Sweatzy Men</td>\n",
       "      <td>Crimson</td>\n",
       "      <td>42</td>\n",
       "      <td>49.95</td>\n",
       "      <td>5.241</td>\n",
       "      <td>2007</td>\n",
       "      <td>Men</td>\n",
       "    </tr>\n",
       "    <tr>\n",
       "      <th>7</th>\n",
       "      <td>P10004</td>\n",
       "      <td>Sweatzy Men</td>\n",
       "      <td>Crimson</td>\n",
       "      <td>43</td>\n",
       "      <td>49.95</td>\n",
       "      <td>5.922</td>\n",
       "      <td>2007</td>\n",
       "      <td>Men</td>\n",
       "    </tr>\n",
       "  </tbody>\n",
       "</table>\n",
       "</div>"
      ],
      "text/plain": [
       "  ProductID  ProductName ProductColor  ProductSize  ProductPrice  Probability  \\\n",
       "3    P10000  Sweatzy Men      Crimson           39         49.95        0.834   \n",
       "4    P10001  Sweatzy Men      Crimson           40         49.95        1.968   \n",
       "5    P10002  Sweatzy Men      Crimson           41         49.95        3.630   \n",
       "6    P10003  Sweatzy Men      Crimson           42         49.95        5.241   \n",
       "7    P10004  Sweatzy Men      Crimson           43         49.95        5.922   \n",
       "\n",
       "   DateIntroduced ProductType  \n",
       "3            2007         Men  \n",
       "4            2007         Men  \n",
       "5            2007         Men  \n",
       "6            2007         Men  \n",
       "7            2007         Men  "
      ]
     },
     "execution_count": 51,
     "metadata": {},
     "output_type": "execute_result"
    }
   ],
   "source": [
    "productsdf1.head()"
   ]
  },
  {
   "cell_type": "code",
   "execution_count": 52,
   "id": "74ade190",
   "metadata": {},
   "outputs": [
    {
     "data": {
      "text/plain": [
       "'/Users/jolyndevis/Documents/SneakerFaqtory/Sneaker-Faqtory'"
      ]
     },
     "execution_count": 52,
     "metadata": {},
     "output_type": "execute_result"
    }
   ],
   "source": [
    "import os\n",
    "os.getcwd()"
   ]
  },
  {
   "cell_type": "code",
   "execution_count": 53,
   "id": "dc443d49",
   "metadata": {},
   "outputs": [],
   "source": [
    "productsdf1.to_csv(os.getcwd() + '/Data/products.txt', sep='|', index=False)"
   ]
  },
  {
   "cell_type": "code",
   "execution_count": 44,
   "id": "f20732f4",
   "metadata": {},
   "outputs": [
    {
     "data": {
      "text/plain": [
       "0.0"
      ]
     },
     "execution_count": 44,
     "metadata": {},
     "output_type": "execute_result"
    }
   ],
   "source": [
    "(productsdf1.Probability/productsdf1.Probability.sum()).sum()\n",
    "\n",
    "#weights = stacked / stacked.sum()"
   ]
  },
  {
   "cell_type": "markdown",
   "id": "698aac50",
   "metadata": {},
   "source": [
    "### Changing index start from 0 to 1"
   ]
  },
  {
   "cell_type": "code",
   "execution_count": 78,
   "id": "1773280b",
   "metadata": {},
   "outputs": [],
   "source": [
    "# productsdf.index += 1"
   ]
  },
  {
   "cell_type": "code",
   "execution_count": 79,
   "id": "f051320d",
   "metadata": {},
   "outputs": [],
   "source": [
    "productsdf.to_csv('Products.csv')"
   ]
  },
  {
   "cell_type": "code",
   "execution_count": null,
   "id": "a9975c78",
   "metadata": {},
   "outputs": [],
   "source": []
  }
 ],
 "metadata": {
  "kernelspec": {
   "display_name": "Python 3 (ipykernel)",
   "language": "python",
   "name": "python3"
  },
  "language_info": {
   "codemirror_mode": {
    "name": "ipython",
    "version": 3
   },
   "file_extension": ".py",
   "mimetype": "text/x-python",
   "name": "python",
   "nbconvert_exporter": "python",
   "pygments_lexer": "ipython3",
   "version": "3.10.0"
  }
 },
 "nbformat": 4,
 "nbformat_minor": 5
}
